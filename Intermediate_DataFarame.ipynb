{
  "nbformat": 4,
  "nbformat_minor": 0,
  "metadata": {
    "colab": {
      "name": "Session 19.ipynb",
      "provenance": [],
      "collapsed_sections": []
    },
    "kernelspec": {
      "name": "python3",
      "display_name": "Python 3"
    },
    "language_info": {
      "name": "python"
    }
  },
  "cells": [
    {
      "cell_type": "markdown",
      "metadata": {
        "id": "e14rBEglnOWU"
      },
      "source": [
        "# DataFrame Intermediate"
      ]
    },
    {
      "cell_type": "code",
      "metadata": {
        "colab": {
          "base_uri": "https://localhost:8080/",
          "height": 173
        },
        "id": "7U6Q27Idm-rw",
        "outputId": "2b72b5c7-ce39-4c4d-d481-f0527f60a55b"
      },
      "source": [
        "import pandas as pd\n",
        "import numpy as np\n",
        "\n",
        "data = [2,3,4,5]\n",
        "df = pd.DataFrame(data)\n",
        "df "
      ],
      "execution_count": null,
      "outputs": [
        {
          "output_type": "execute_result",
          "data": {
            "text/html": [
              "<div>\n",
              "<style scoped>\n",
              "    .dataframe tbody tr th:only-of-type {\n",
              "        vertical-align: middle;\n",
              "    }\n",
              "\n",
              "    .dataframe tbody tr th {\n",
              "        vertical-align: top;\n",
              "    }\n",
              "\n",
              "    .dataframe thead th {\n",
              "        text-align: right;\n",
              "    }\n",
              "</style>\n",
              "<table border=\"1\" class=\"dataframe\">\n",
              "  <thead>\n",
              "    <tr style=\"text-align: right;\">\n",
              "      <th></th>\n",
              "      <th>0</th>\n",
              "    </tr>\n",
              "  </thead>\n",
              "  <tbody>\n",
              "    <tr>\n",
              "      <th>0</th>\n",
              "      <td>2</td>\n",
              "    </tr>\n",
              "    <tr>\n",
              "      <th>1</th>\n",
              "      <td>3</td>\n",
              "    </tr>\n",
              "    <tr>\n",
              "      <th>2</th>\n",
              "      <td>4</td>\n",
              "    </tr>\n",
              "    <tr>\n",
              "      <th>3</th>\n",
              "      <td>5</td>\n",
              "    </tr>\n",
              "  </tbody>\n",
              "</table>\n",
              "</div>"
            ],
            "text/plain": [
              "   0\n",
              "0  2\n",
              "1  3\n",
              "2  4\n",
              "3  5"
            ]
          },
          "metadata": {
            "tags": []
          },
          "execution_count": 2
        }
      ]
    },
    {
      "cell_type": "code",
      "metadata": {
        "colab": {
          "base_uri": "https://localhost:8080/",
          "height": 142
        },
        "id": "r9DaPCRIn1pQ",
        "outputId": "7a26542f-0e4d-4314-b72d-4879294efeb8"
      },
      "source": [
        "#Using List\n",
        "data = [['joko', 14], ['budi', 18], ['yuni', 22]]\n",
        "df1 = pd.DataFrame(data, columns= ['nama', 'umur'],\n",
        "                   index = ['1', '2', '3'])\n",
        "df1"
      ],
      "execution_count": null,
      "outputs": [
        {
          "output_type": "execute_result",
          "data": {
            "text/html": [
              "<div>\n",
              "<style scoped>\n",
              "    .dataframe tbody tr th:only-of-type {\n",
              "        vertical-align: middle;\n",
              "    }\n",
              "\n",
              "    .dataframe tbody tr th {\n",
              "        vertical-align: top;\n",
              "    }\n",
              "\n",
              "    .dataframe thead th {\n",
              "        text-align: right;\n",
              "    }\n",
              "</style>\n",
              "<table border=\"1\" class=\"dataframe\">\n",
              "  <thead>\n",
              "    <tr style=\"text-align: right;\">\n",
              "      <th></th>\n",
              "      <th>nama</th>\n",
              "      <th>umur</th>\n",
              "    </tr>\n",
              "  </thead>\n",
              "  <tbody>\n",
              "    <tr>\n",
              "      <th>1</th>\n",
              "      <td>joko</td>\n",
              "      <td>14</td>\n",
              "    </tr>\n",
              "    <tr>\n",
              "      <th>2</th>\n",
              "      <td>budi</td>\n",
              "      <td>18</td>\n",
              "    </tr>\n",
              "    <tr>\n",
              "      <th>3</th>\n",
              "      <td>yuni</td>\n",
              "      <td>22</td>\n",
              "    </tr>\n",
              "  </tbody>\n",
              "</table>\n",
              "</div>"
            ],
            "text/plain": [
              "   nama  umur\n",
              "1  joko    14\n",
              "2  budi    18\n",
              "3  yuni    22"
            ]
          },
          "metadata": {
            "tags": []
          },
          "execution_count": 12
        }
      ]
    },
    {
      "cell_type": "markdown",
      "metadata": {
        "id": "2Q92mTzepDig"
      },
      "source": [
        "#add new column"
      ]
    },
    {
      "cell_type": "code",
      "metadata": {
        "colab": {
          "base_uri": "https://localhost:8080/",
          "height": 111
        },
        "id": "cATsJ-sZpCFB",
        "outputId": "410d74f2-27e4-4363-d0fe-1d5a8de70c16"
      },
      "source": [
        "# Declaring a new list as a column\n",
        "data = {'Nama' : ['Jack', 'Joko'], \n",
        "        'Umur': [20,23]}\n",
        "df = pd.DataFrame(data)\n",
        "df['Alamat'] = ['Surabaya', 'Jogja']\n",
        "df"
      ],
      "execution_count": null,
      "outputs": [
        {
          "output_type": "execute_result",
          "data": {
            "text/html": [
              "<div>\n",
              "<style scoped>\n",
              "    .dataframe tbody tr th:only-of-type {\n",
              "        vertical-align: middle;\n",
              "    }\n",
              "\n",
              "    .dataframe tbody tr th {\n",
              "        vertical-align: top;\n",
              "    }\n",
              "\n",
              "    .dataframe thead th {\n",
              "        text-align: right;\n",
              "    }\n",
              "</style>\n",
              "<table border=\"1\" class=\"dataframe\">\n",
              "  <thead>\n",
              "    <tr style=\"text-align: right;\">\n",
              "      <th></th>\n",
              "      <th>Nama</th>\n",
              "      <th>Umur</th>\n",
              "      <th>Alamat</th>\n",
              "    </tr>\n",
              "  </thead>\n",
              "  <tbody>\n",
              "    <tr>\n",
              "      <th>0</th>\n",
              "      <td>Jack</td>\n",
              "      <td>20</td>\n",
              "      <td>Surabaya</td>\n",
              "    </tr>\n",
              "    <tr>\n",
              "      <th>1</th>\n",
              "      <td>Joko</td>\n",
              "      <td>23</td>\n",
              "      <td>Jogja</td>\n",
              "    </tr>\n",
              "  </tbody>\n",
              "</table>\n",
              "</div>"
            ],
            "text/plain": [
              "   Nama  Umur    Alamat\n",
              "0  Jack    20  Surabaya\n",
              "1  Joko    23     Jogja"
            ]
          },
          "metadata": {
            "tags": []
          },
          "execution_count": 20
        }
      ]
    },
    {
      "cell_type": "markdown",
      "metadata": {
        "id": "lOwuKQbnpxls"
      },
      "source": [
        "# insert"
      ]
    },
    {
      "cell_type": "code",
      "metadata": {
        "colab": {
          "base_uri": "https://localhost:8080/",
          "height": 111
        },
        "id": "oI17YSsxpzKG",
        "outputId": "f74ae221-7342-412b-ceb8-301e76fd455f"
      },
      "source": [
        "# Using insert()\n",
        "data = {'Nama' : ['Jack', 'Joko'], \n",
        "        'Umur': [20,23]}\n",
        "df = pd.DataFrame(data)\n",
        "\n",
        "alamat = ['Medan', 'Jakarta']\n",
        "df.insert(1, 'Alamat', alamat)\n",
        "df"
      ],
      "execution_count": null,
      "outputs": [
        {
          "output_type": "execute_result",
          "data": {
            "text/html": [
              "<div>\n",
              "<style scoped>\n",
              "    .dataframe tbody tr th:only-of-type {\n",
              "        vertical-align: middle;\n",
              "    }\n",
              "\n",
              "    .dataframe tbody tr th {\n",
              "        vertical-align: top;\n",
              "    }\n",
              "\n",
              "    .dataframe thead th {\n",
              "        text-align: right;\n",
              "    }\n",
              "</style>\n",
              "<table border=\"1\" class=\"dataframe\">\n",
              "  <thead>\n",
              "    <tr style=\"text-align: right;\">\n",
              "      <th></th>\n",
              "      <th>Nama</th>\n",
              "      <th>Alamat</th>\n",
              "      <th>Umur</th>\n",
              "    </tr>\n",
              "  </thead>\n",
              "  <tbody>\n",
              "    <tr>\n",
              "      <th>0</th>\n",
              "      <td>Jack</td>\n",
              "      <td>Medan</td>\n",
              "      <td>20</td>\n",
              "    </tr>\n",
              "    <tr>\n",
              "      <th>1</th>\n",
              "      <td>Joko</td>\n",
              "      <td>Jakarta</td>\n",
              "      <td>23</td>\n",
              "    </tr>\n",
              "  </tbody>\n",
              "</table>\n",
              "</div>"
            ],
            "text/plain": [
              "   Nama   Alamat  Umur\n",
              "0  Jack    Medan    20\n",
              "1  Joko  Jakarta    23"
            ]
          },
          "metadata": {
            "tags": []
          },
          "execution_count": 19
        }
      ]
    },
    {
      "cell_type": "code",
      "metadata": {
        "colab": {
          "base_uri": "https://localhost:8080/",
          "height": 142
        },
        "id": "uGQHwPMxq3fB",
        "outputId": "486f65c1-f16a-4106-8131-eeb56eb21981"
      },
      "source": [
        "data = [['joko', 14], ['budi', 18], ['yuni', 22]]\n",
        "df2 = pd.DataFrame(data, columns = ['Nama', 'Umur'])\n",
        "\n",
        "alamat = ['Medan', 'Jakarta', 'Jogja']\n",
        "df2.insert(2, 'Alamat', alamat)\n",
        "df2"
      ],
      "execution_count": null,
      "outputs": [
        {
          "output_type": "execute_result",
          "data": {
            "text/html": [
              "<div>\n",
              "<style scoped>\n",
              "    .dataframe tbody tr th:only-of-type {\n",
              "        vertical-align: middle;\n",
              "    }\n",
              "\n",
              "    .dataframe tbody tr th {\n",
              "        vertical-align: top;\n",
              "    }\n",
              "\n",
              "    .dataframe thead th {\n",
              "        text-align: right;\n",
              "    }\n",
              "</style>\n",
              "<table border=\"1\" class=\"dataframe\">\n",
              "  <thead>\n",
              "    <tr style=\"text-align: right;\">\n",
              "      <th></th>\n",
              "      <th>Nama</th>\n",
              "      <th>Umur</th>\n",
              "      <th>Alamat</th>\n",
              "    </tr>\n",
              "  </thead>\n",
              "  <tbody>\n",
              "    <tr>\n",
              "      <th>0</th>\n",
              "      <td>joko</td>\n",
              "      <td>14</td>\n",
              "      <td>Medan</td>\n",
              "    </tr>\n",
              "    <tr>\n",
              "      <th>1</th>\n",
              "      <td>budi</td>\n",
              "      <td>18</td>\n",
              "      <td>Jakarta</td>\n",
              "    </tr>\n",
              "    <tr>\n",
              "      <th>2</th>\n",
              "      <td>yuni</td>\n",
              "      <td>22</td>\n",
              "      <td>Jogja</td>\n",
              "    </tr>\n",
              "  </tbody>\n",
              "</table>\n",
              "</div>"
            ],
            "text/plain": [
              "   Nama  Umur   Alamat\n",
              "0  joko    14    Medan\n",
              "1  budi    18  Jakarta\n",
              "2  yuni    22    Jogja"
            ]
          },
          "metadata": {
            "tags": []
          },
          "execution_count": 5
        }
      ]
    },
    {
      "cell_type": "markdown",
      "metadata": {
        "id": "-Vpe7rZzsCFr"
      },
      "source": [
        "# Creating multiple columns"
      ]
    },
    {
      "cell_type": "code",
      "metadata": {
        "colab": {
          "base_uri": "https://localhost:8080/",
          "height": 142
        },
        "id": "-WkYn9fOsF6j",
        "outputId": "8facb90e-e722-4939-b259-e5851f8e4864"
      },
      "source": [
        "# Using assign()\n",
        "data = [['joko', 14], ['budi', 18], ['yuni', 22]]\n",
        "df = pd.DataFrame(data, columns = ['Nama', 'Umur'])\n",
        "\n",
        "alamat = ['Medan', 'Jakarta', 'Jogja']\n",
        "pekerjaan = ['programmer', 'wirausaha', 'marketing']\n",
        "\n",
        "df1 = df.assign(Alamat = alamat, Job = pekerjaan)\n",
        "df1 "
      ],
      "execution_count": null,
      "outputs": [
        {
          "output_type": "execute_result",
          "data": {
            "text/html": [
              "<div>\n",
              "<style scoped>\n",
              "    .dataframe tbody tr th:only-of-type {\n",
              "        vertical-align: middle;\n",
              "    }\n",
              "\n",
              "    .dataframe tbody tr th {\n",
              "        vertical-align: top;\n",
              "    }\n",
              "\n",
              "    .dataframe thead th {\n",
              "        text-align: right;\n",
              "    }\n",
              "</style>\n",
              "<table border=\"1\" class=\"dataframe\">\n",
              "  <thead>\n",
              "    <tr style=\"text-align: right;\">\n",
              "      <th></th>\n",
              "      <th>Nama</th>\n",
              "      <th>Umur</th>\n",
              "      <th>Alamat</th>\n",
              "      <th>Job</th>\n",
              "    </tr>\n",
              "  </thead>\n",
              "  <tbody>\n",
              "    <tr>\n",
              "      <th>0</th>\n",
              "      <td>joko</td>\n",
              "      <td>14</td>\n",
              "      <td>Medan</td>\n",
              "      <td>programmer</td>\n",
              "    </tr>\n",
              "    <tr>\n",
              "      <th>1</th>\n",
              "      <td>budi</td>\n",
              "      <td>18</td>\n",
              "      <td>Jakarta</td>\n",
              "      <td>wirausaha</td>\n",
              "    </tr>\n",
              "    <tr>\n",
              "      <th>2</th>\n",
              "      <td>yuni</td>\n",
              "      <td>22</td>\n",
              "      <td>Jogja</td>\n",
              "      <td>marketing</td>\n",
              "    </tr>\n",
              "  </tbody>\n",
              "</table>\n",
              "</div>"
            ],
            "text/plain": [
              "   Nama  Umur   Alamat         Job\n",
              "0  joko    14    Medan  programmer\n",
              "1  budi    18  Jakarta   wirausaha\n",
              "2  yuni    22    Jogja   marketing"
            ]
          },
          "metadata": {
            "tags": []
          },
          "execution_count": 6
        }
      ]
    },
    {
      "cell_type": "code",
      "metadata": {
        "colab": {
          "base_uri": "https://localhost:8080/",
          "height": 142
        },
        "id": "nQW9aipGuGuO",
        "outputId": "2248dacc-0c82-4456-c5f7-dc53bb4f6298"
      },
      "source": [
        "# Declaring DataFrame to columns\n",
        "data = [['joko', 14], ['budi', 18], ['yuni', 22]]\n",
        "df = pd.DataFrame(data, columns = ['Nama', 'Umur'])\n",
        "\n",
        "alamat = ['Medan', 'Jakarta', 'Jogja']\n",
        "pekerjaan = ['programmer', 'wirausaha', 'marketing']\n",
        "\n",
        "df[['Address', 'Job']] = pd.DataFrame({'Address' : alamat, \n",
        "                                       'Job' : pekerjaan})\n",
        "df"
      ],
      "execution_count": null,
      "outputs": [
        {
          "output_type": "execute_result",
          "data": {
            "text/html": [
              "<div>\n",
              "<style scoped>\n",
              "    .dataframe tbody tr th:only-of-type {\n",
              "        vertical-align: middle;\n",
              "    }\n",
              "\n",
              "    .dataframe tbody tr th {\n",
              "        vertical-align: top;\n",
              "    }\n",
              "\n",
              "    .dataframe thead th {\n",
              "        text-align: right;\n",
              "    }\n",
              "</style>\n",
              "<table border=\"1\" class=\"dataframe\">\n",
              "  <thead>\n",
              "    <tr style=\"text-align: right;\">\n",
              "      <th></th>\n",
              "      <th>Nama</th>\n",
              "      <th>Umur</th>\n",
              "      <th>Address</th>\n",
              "      <th>Job</th>\n",
              "    </tr>\n",
              "  </thead>\n",
              "  <tbody>\n",
              "    <tr>\n",
              "      <th>0</th>\n",
              "      <td>joko</td>\n",
              "      <td>14</td>\n",
              "      <td>Medan</td>\n",
              "      <td>programmer</td>\n",
              "    </tr>\n",
              "    <tr>\n",
              "      <th>1</th>\n",
              "      <td>budi</td>\n",
              "      <td>18</td>\n",
              "      <td>Jakarta</td>\n",
              "      <td>wirausaha</td>\n",
              "    </tr>\n",
              "    <tr>\n",
              "      <th>2</th>\n",
              "      <td>yuni</td>\n",
              "      <td>22</td>\n",
              "      <td>Jogja</td>\n",
              "      <td>marketing</td>\n",
              "    </tr>\n",
              "  </tbody>\n",
              "</table>\n",
              "</div>"
            ],
            "text/plain": [
              "   Nama  Umur  Address         Job\n",
              "0  joko    14    Medan  programmer\n",
              "1  budi    18  Jakarta   wirausaha\n",
              "2  yuni    22    Jogja   marketing"
            ]
          },
          "metadata": {
            "tags": []
          },
          "execution_count": 26
        }
      ]
    },
    {
      "cell_type": "markdown",
      "metadata": {
        "id": "2QFzm-8Iv0WB"
      },
      "source": [
        "# Deleting Column"
      ]
    },
    {
      "cell_type": "code",
      "metadata": {
        "id": "JHD_dFy2yCEN",
        "colab": {
          "base_uri": "https://localhost:8080/",
          "height": 142
        },
        "outputId": "855462c8-c7cb-424f-eb42-ea654886a758"
      },
      "source": [
        "data = {'Nama' : ['joko', 'Budi', 'Tono'],\n",
        "        'Umur' : [22, 24, 26],\n",
        "        'Alamat' : ['Jakarta', 'Malang', 'Jogja'],\n",
        "        'Pekerjaan' : ['security', 'programmer', 'marketing']}\n",
        "df = pd.DataFrame(data)\n",
        "df"
      ],
      "execution_count": null,
      "outputs": [
        {
          "output_type": "execute_result",
          "data": {
            "text/html": [
              "<div>\n",
              "<style scoped>\n",
              "    .dataframe tbody tr th:only-of-type {\n",
              "        vertical-align: middle;\n",
              "    }\n",
              "\n",
              "    .dataframe tbody tr th {\n",
              "        vertical-align: top;\n",
              "    }\n",
              "\n",
              "    .dataframe thead th {\n",
              "        text-align: right;\n",
              "    }\n",
              "</style>\n",
              "<table border=\"1\" class=\"dataframe\">\n",
              "  <thead>\n",
              "    <tr style=\"text-align: right;\">\n",
              "      <th></th>\n",
              "      <th>Nama</th>\n",
              "      <th>Umur</th>\n",
              "      <th>Alamat</th>\n",
              "      <th>Pekerjaan</th>\n",
              "    </tr>\n",
              "  </thead>\n",
              "  <tbody>\n",
              "    <tr>\n",
              "      <th>0</th>\n",
              "      <td>joko</td>\n",
              "      <td>22</td>\n",
              "      <td>Jakarta</td>\n",
              "      <td>security</td>\n",
              "    </tr>\n",
              "    <tr>\n",
              "      <th>1</th>\n",
              "      <td>Budi</td>\n",
              "      <td>24</td>\n",
              "      <td>Malang</td>\n",
              "      <td>programmer</td>\n",
              "    </tr>\n",
              "    <tr>\n",
              "      <th>2</th>\n",
              "      <td>Tono</td>\n",
              "      <td>26</td>\n",
              "      <td>Jogja</td>\n",
              "      <td>marketing</td>\n",
              "    </tr>\n",
              "  </tbody>\n",
              "</table>\n",
              "</div>"
            ],
            "text/plain": [
              "   Nama  Umur   Alamat   Pekerjaan\n",
              "0  joko    22  Jakarta    security\n",
              "1  Budi    24   Malang  programmer\n",
              "2  Tono    26    Jogja   marketing"
            ]
          },
          "metadata": {
            "tags": []
          },
          "execution_count": 15
        }
      ]
    },
    {
      "cell_type": "code",
      "metadata": {
        "colab": {
          "base_uri": "https://localhost:8080/",
          "height": 142
        },
        "id": "9HcBfALNZzuJ",
        "outputId": "1ce8d7a4-164a-448c-8de1-6911688d5bbf"
      },
      "source": [
        "# Using drop()\n",
        "df.drop('Pekerjaan', axis =1, inplace=True)\n",
        "df"
      ],
      "execution_count": null,
      "outputs": [
        {
          "output_type": "execute_result",
          "data": {
            "text/html": [
              "<div>\n",
              "<style scoped>\n",
              "    .dataframe tbody tr th:only-of-type {\n",
              "        vertical-align: middle;\n",
              "    }\n",
              "\n",
              "    .dataframe tbody tr th {\n",
              "        vertical-align: top;\n",
              "    }\n",
              "\n",
              "    .dataframe thead th {\n",
              "        text-align: right;\n",
              "    }\n",
              "</style>\n",
              "<table border=\"1\" class=\"dataframe\">\n",
              "  <thead>\n",
              "    <tr style=\"text-align: right;\">\n",
              "      <th></th>\n",
              "      <th>Nama</th>\n",
              "      <th>Umur</th>\n",
              "      <th>Alamat</th>\n",
              "    </tr>\n",
              "  </thead>\n",
              "  <tbody>\n",
              "    <tr>\n",
              "      <th>0</th>\n",
              "      <td>joko</td>\n",
              "      <td>22</td>\n",
              "      <td>Jakarta</td>\n",
              "    </tr>\n",
              "    <tr>\n",
              "      <th>1</th>\n",
              "      <td>Budi</td>\n",
              "      <td>24</td>\n",
              "      <td>Malang</td>\n",
              "    </tr>\n",
              "    <tr>\n",
              "      <th>2</th>\n",
              "      <td>Tono</td>\n",
              "      <td>26</td>\n",
              "      <td>Jogja</td>\n",
              "    </tr>\n",
              "  </tbody>\n",
              "</table>\n",
              "</div>"
            ],
            "text/plain": [
              "   Nama  Umur   Alamat\n",
              "0  joko    22  Jakarta\n",
              "1  Budi    24   Malang\n",
              "2  Tono    26    Jogja"
            ]
          },
          "metadata": {
            "tags": []
          },
          "execution_count": 11
        }
      ]
    },
    {
      "cell_type": "code",
      "metadata": {
        "colab": {
          "base_uri": "https://localhost:8080/",
          "height": 142
        },
        "id": "uEH_ca28xQEE",
        "outputId": "a762e252-2d43-4d09-b211-cbb898939fb5"
      },
      "source": [
        "# Using del\n",
        "del df['Alamat']\n",
        "df"
      ],
      "execution_count": null,
      "outputs": [
        {
          "output_type": "execute_result",
          "data": {
            "text/html": [
              "<div>\n",
              "<style scoped>\n",
              "    .dataframe tbody tr th:only-of-type {\n",
              "        vertical-align: middle;\n",
              "    }\n",
              "\n",
              "    .dataframe tbody tr th {\n",
              "        vertical-align: top;\n",
              "    }\n",
              "\n",
              "    .dataframe thead th {\n",
              "        text-align: right;\n",
              "    }\n",
              "</style>\n",
              "<table border=\"1\" class=\"dataframe\">\n",
              "  <thead>\n",
              "    <tr style=\"text-align: right;\">\n",
              "      <th></th>\n",
              "      <th>Nama</th>\n",
              "      <th>Umur</th>\n",
              "      <th>Pekerjaan</th>\n",
              "    </tr>\n",
              "  </thead>\n",
              "  <tbody>\n",
              "    <tr>\n",
              "      <th>0</th>\n",
              "      <td>joko</td>\n",
              "      <td>22</td>\n",
              "      <td>security</td>\n",
              "    </tr>\n",
              "    <tr>\n",
              "      <th>1</th>\n",
              "      <td>Budi</td>\n",
              "      <td>24</td>\n",
              "      <td>programmer</td>\n",
              "    </tr>\n",
              "    <tr>\n",
              "      <th>2</th>\n",
              "      <td>Tono</td>\n",
              "      <td>26</td>\n",
              "      <td>marketing</td>\n",
              "    </tr>\n",
              "  </tbody>\n",
              "</table>\n",
              "</div>"
            ],
            "text/plain": [
              "   Nama  Umur   Pekerjaan\n",
              "0  joko    22    security\n",
              "1  Budi    24  programmer\n",
              "2  Tono    26   marketing"
            ]
          },
          "metadata": {
            "tags": []
          },
          "execution_count": 13
        }
      ]
    },
    {
      "cell_type": "code",
      "metadata": {
        "colab": {
          "base_uri": "https://localhost:8080/",
          "height": 142
        },
        "id": "_VBOUSswazUQ",
        "outputId": "0c8b5215-d333-41be-c05d-e26cb7a5dd29"
      },
      "source": [
        "# Using pop\n",
        "df.pop('Umur')\n",
        "df"
      ],
      "execution_count": null,
      "outputs": [
        {
          "output_type": "execute_result",
          "data": {
            "text/html": [
              "<div>\n",
              "<style scoped>\n",
              "    .dataframe tbody tr th:only-of-type {\n",
              "        vertical-align: middle;\n",
              "    }\n",
              "\n",
              "    .dataframe tbody tr th {\n",
              "        vertical-align: top;\n",
              "    }\n",
              "\n",
              "    .dataframe thead th {\n",
              "        text-align: right;\n",
              "    }\n",
              "</style>\n",
              "<table border=\"1\" class=\"dataframe\">\n",
              "  <thead>\n",
              "    <tr style=\"text-align: right;\">\n",
              "      <th></th>\n",
              "      <th>Nama</th>\n",
              "      <th>Alamat</th>\n",
              "      <th>Pekerjaan</th>\n",
              "    </tr>\n",
              "  </thead>\n",
              "  <tbody>\n",
              "    <tr>\n",
              "      <th>0</th>\n",
              "      <td>joko</td>\n",
              "      <td>Jakarta</td>\n",
              "      <td>security</td>\n",
              "    </tr>\n",
              "    <tr>\n",
              "      <th>1</th>\n",
              "      <td>Budi</td>\n",
              "      <td>Malang</td>\n",
              "      <td>programmer</td>\n",
              "    </tr>\n",
              "    <tr>\n",
              "      <th>2</th>\n",
              "      <td>Tono</td>\n",
              "      <td>Jogja</td>\n",
              "      <td>marketing</td>\n",
              "    </tr>\n",
              "  </tbody>\n",
              "</table>\n",
              "</div>"
            ],
            "text/plain": [
              "   Nama   Alamat   Pekerjaan\n",
              "0  joko  Jakarta    security\n",
              "1  Budi   Malang  programmer\n",
              "2  Tono    Jogja   marketing"
            ]
          },
          "metadata": {
            "tags": []
          },
          "execution_count": 16
        }
      ]
    },
    {
      "cell_type": "markdown",
      "metadata": {
        "id": "mdoW5H77xlP4"
      },
      "source": [
        "# Deleting Multi Column"
      ]
    },
    {
      "cell_type": "code",
      "metadata": {
        "colab": {
          "base_uri": "https://localhost:8080/",
          "height": 142
        },
        "id": "f3yKXYmmxpQP",
        "outputId": "92b4f618-4dd6-40bf-8411-93669752e0ab"
      },
      "source": [
        "data = {'Nama' : ['joko', 'Budi', 'Tono'],\n",
        "        'Umur' : [22, 24, 26],\n",
        "        'Alamat' : ['Jakarta', 'Malang', 'Jogja'],\n",
        "        'Pekerjaan' : ['security', 'programmer', 'marketing']}\n",
        "df = pd.DataFrame(data)\n",
        "df"
      ],
      "execution_count": null,
      "outputs": [
        {
          "output_type": "execute_result",
          "data": {
            "text/html": [
              "<div>\n",
              "<style scoped>\n",
              "    .dataframe tbody tr th:only-of-type {\n",
              "        vertical-align: middle;\n",
              "    }\n",
              "\n",
              "    .dataframe tbody tr th {\n",
              "        vertical-align: top;\n",
              "    }\n",
              "\n",
              "    .dataframe thead th {\n",
              "        text-align: right;\n",
              "    }\n",
              "</style>\n",
              "<table border=\"1\" class=\"dataframe\">\n",
              "  <thead>\n",
              "    <tr style=\"text-align: right;\">\n",
              "      <th></th>\n",
              "      <th>Nama</th>\n",
              "      <th>Umur</th>\n",
              "      <th>Alamat</th>\n",
              "      <th>Pekerjaan</th>\n",
              "    </tr>\n",
              "  </thead>\n",
              "  <tbody>\n",
              "    <tr>\n",
              "      <th>0</th>\n",
              "      <td>joko</td>\n",
              "      <td>22</td>\n",
              "      <td>Jakarta</td>\n",
              "      <td>security</td>\n",
              "    </tr>\n",
              "    <tr>\n",
              "      <th>1</th>\n",
              "      <td>Budi</td>\n",
              "      <td>24</td>\n",
              "      <td>Malang</td>\n",
              "      <td>programmer</td>\n",
              "    </tr>\n",
              "    <tr>\n",
              "      <th>2</th>\n",
              "      <td>Tono</td>\n",
              "      <td>26</td>\n",
              "      <td>Jogja</td>\n",
              "      <td>marketing</td>\n",
              "    </tr>\n",
              "  </tbody>\n",
              "</table>\n",
              "</div>"
            ],
            "text/plain": [
              "   Nama  Umur   Alamat   Pekerjaan\n",
              "0  joko    22  Jakarta    security\n",
              "1  Budi    24   Malang  programmer\n",
              "2  Tono    26    Jogja   marketing"
            ]
          },
          "metadata": {
            "tags": []
          },
          "execution_count": 23
        }
      ]
    },
    {
      "cell_type": "code",
      "metadata": {
        "colab": {
          "base_uri": "https://localhost:8080/",
          "height": 142
        },
        "id": "4My39oX3bcz1",
        "outputId": "f2d58c9a-7f21-412c-fbf5-645a3ed4f747"
      },
      "source": [
        "# Deleting multi column using drop()\n",
        "df.drop(['Alamat', 'Pekerjaan'], \n",
        "        axis=1, inplace = True)\n",
        "df"
      ],
      "execution_count": null,
      "outputs": [
        {
          "output_type": "execute_result",
          "data": {
            "text/html": [
              "<div>\n",
              "<style scoped>\n",
              "    .dataframe tbody tr th:only-of-type {\n",
              "        vertical-align: middle;\n",
              "    }\n",
              "\n",
              "    .dataframe tbody tr th {\n",
              "        vertical-align: top;\n",
              "    }\n",
              "\n",
              "    .dataframe thead th {\n",
              "        text-align: right;\n",
              "    }\n",
              "</style>\n",
              "<table border=\"1\" class=\"dataframe\">\n",
              "  <thead>\n",
              "    <tr style=\"text-align: right;\">\n",
              "      <th></th>\n",
              "      <th>Nama</th>\n",
              "      <th>Umur</th>\n",
              "    </tr>\n",
              "  </thead>\n",
              "  <tbody>\n",
              "    <tr>\n",
              "      <th>0</th>\n",
              "      <td>joko</td>\n",
              "      <td>22</td>\n",
              "    </tr>\n",
              "    <tr>\n",
              "      <th>1</th>\n",
              "      <td>Budi</td>\n",
              "      <td>24</td>\n",
              "    </tr>\n",
              "    <tr>\n",
              "      <th>2</th>\n",
              "      <td>Tono</td>\n",
              "      <td>26</td>\n",
              "    </tr>\n",
              "  </tbody>\n",
              "</table>\n",
              "</div>"
            ],
            "text/plain": [
              "   Nama  Umur\n",
              "0  joko    22\n",
              "1  Budi    24\n",
              "2  Tono    26"
            ]
          },
          "metadata": {
            "tags": []
          },
          "execution_count": 24
        }
      ]
    },
    {
      "cell_type": "markdown",
      "metadata": {
        "id": "-taGYyfZzKXP"
      },
      "source": [
        "# Sorting DataFrame"
      ]
    },
    {
      "cell_type": "code",
      "metadata": {
        "colab": {
          "base_uri": "https://localhost:8080/",
          "height": 173
        },
        "id": "a0qqVFEqzN8f",
        "outputId": "b7dc6bce-30a5-4c8a-a725-a19cfe0ad464"
      },
      "source": [
        "data = {'Nama' : ['joko', 'Budi', 'Tono', 'Rini'],\n",
        "        'Umur' : [22, 24, 26, 29],\n",
        "        'Alamat' : ['Jakarta', 'Malang', 'Jogja', 'Semarang'],\n",
        "        'Pekerjaan' : ['security', 'programmer', 'marketing', 'CS']}\n",
        "\n",
        "df = pd.DataFrame(data, index = [2, 3, 0, 1])\n",
        "df"
      ],
      "execution_count": null,
      "outputs": [
        {
          "output_type": "execute_result",
          "data": {
            "text/html": [
              "<div>\n",
              "<style scoped>\n",
              "    .dataframe tbody tr th:only-of-type {\n",
              "        vertical-align: middle;\n",
              "    }\n",
              "\n",
              "    .dataframe tbody tr th {\n",
              "        vertical-align: top;\n",
              "    }\n",
              "\n",
              "    .dataframe thead th {\n",
              "        text-align: right;\n",
              "    }\n",
              "</style>\n",
              "<table border=\"1\" class=\"dataframe\">\n",
              "  <thead>\n",
              "    <tr style=\"text-align: right;\">\n",
              "      <th></th>\n",
              "      <th>Nama</th>\n",
              "      <th>Umur</th>\n",
              "      <th>Alamat</th>\n",
              "      <th>Pekerjaan</th>\n",
              "    </tr>\n",
              "  </thead>\n",
              "  <tbody>\n",
              "    <tr>\n",
              "      <th>2</th>\n",
              "      <td>joko</td>\n",
              "      <td>22</td>\n",
              "      <td>Jakarta</td>\n",
              "      <td>security</td>\n",
              "    </tr>\n",
              "    <tr>\n",
              "      <th>3</th>\n",
              "      <td>Budi</td>\n",
              "      <td>24</td>\n",
              "      <td>Malang</td>\n",
              "      <td>programmer</td>\n",
              "    </tr>\n",
              "    <tr>\n",
              "      <th>0</th>\n",
              "      <td>Tono</td>\n",
              "      <td>26</td>\n",
              "      <td>Jogja</td>\n",
              "      <td>marketing</td>\n",
              "    </tr>\n",
              "    <tr>\n",
              "      <th>1</th>\n",
              "      <td>Rini</td>\n",
              "      <td>29</td>\n",
              "      <td>Semarang</td>\n",
              "      <td>CS</td>\n",
              "    </tr>\n",
              "  </tbody>\n",
              "</table>\n",
              "</div>"
            ],
            "text/plain": [
              "   Nama  Umur    Alamat   Pekerjaan\n",
              "2  joko    22   Jakarta    security\n",
              "3  Budi    24    Malang  programmer\n",
              "0  Tono    26     Jogja   marketing\n",
              "1  Rini    29  Semarang          CS"
            ]
          },
          "metadata": {
            "tags": []
          },
          "execution_count": 25
        }
      ]
    },
    {
      "cell_type": "code",
      "metadata": {
        "colab": {
          "base_uri": "https://localhost:8080/",
          "height": 173
        },
        "id": "Cvl_H2r0wG4y",
        "outputId": "c10fb5fe-3ef7-42f9-d5ad-c520ba11d97a"
      },
      "source": [
        "# Sort Column\n",
        "sorted_column = df.sort_index(axis=1)\n",
        "sorted_column"
      ],
      "execution_count": null,
      "outputs": [
        {
          "output_type": "execute_result",
          "data": {
            "text/html": [
              "<div>\n",
              "<style scoped>\n",
              "    .dataframe tbody tr th:only-of-type {\n",
              "        vertical-align: middle;\n",
              "    }\n",
              "\n",
              "    .dataframe tbody tr th {\n",
              "        vertical-align: top;\n",
              "    }\n",
              "\n",
              "    .dataframe thead th {\n",
              "        text-align: right;\n",
              "    }\n",
              "</style>\n",
              "<table border=\"1\" class=\"dataframe\">\n",
              "  <thead>\n",
              "    <tr style=\"text-align: right;\">\n",
              "      <th></th>\n",
              "      <th>Alamat</th>\n",
              "      <th>Nama</th>\n",
              "      <th>Pekerjaan</th>\n",
              "      <th>Umur</th>\n",
              "    </tr>\n",
              "  </thead>\n",
              "  <tbody>\n",
              "    <tr>\n",
              "      <th>2</th>\n",
              "      <td>Jakarta</td>\n",
              "      <td>joko</td>\n",
              "      <td>security</td>\n",
              "      <td>22</td>\n",
              "    </tr>\n",
              "    <tr>\n",
              "      <th>3</th>\n",
              "      <td>Malang</td>\n",
              "      <td>Budi</td>\n",
              "      <td>programmer</td>\n",
              "      <td>24</td>\n",
              "    </tr>\n",
              "    <tr>\n",
              "      <th>0</th>\n",
              "      <td>Jogja</td>\n",
              "      <td>Tono</td>\n",
              "      <td>marketing</td>\n",
              "      <td>26</td>\n",
              "    </tr>\n",
              "    <tr>\n",
              "      <th>1</th>\n",
              "      <td>Semarang</td>\n",
              "      <td>Rini</td>\n",
              "      <td>CS</td>\n",
              "      <td>29</td>\n",
              "    </tr>\n",
              "  </tbody>\n",
              "</table>\n",
              "</div>"
            ],
            "text/plain": [
              "     Alamat  Nama   Pekerjaan  Umur\n",
              "2   Jakarta  joko    security    22\n",
              "3    Malang  Budi  programmer    24\n",
              "0     Jogja  Tono   marketing    26\n",
              "1  Semarang  Rini          CS    29"
            ]
          },
          "metadata": {
            "tags": []
          },
          "execution_count": 26
        }
      ]
    },
    {
      "cell_type": "code",
      "metadata": {
        "colab": {
          "base_uri": "https://localhost:8080/",
          "height": 173
        },
        "id": "ikP0BAGczqbN",
        "outputId": "304bf0e0-ee4b-43c0-8cd7-8d81e4a27cb0"
      },
      "source": [
        "# Sort Row\n",
        "sorted_df = df.sort_index()\n",
        "sorted_df"
      ],
      "execution_count": null,
      "outputs": [
        {
          "output_type": "execute_result",
          "data": {
            "text/html": [
              "<div>\n",
              "<style scoped>\n",
              "    .dataframe tbody tr th:only-of-type {\n",
              "        vertical-align: middle;\n",
              "    }\n",
              "\n",
              "    .dataframe tbody tr th {\n",
              "        vertical-align: top;\n",
              "    }\n",
              "\n",
              "    .dataframe thead th {\n",
              "        text-align: right;\n",
              "    }\n",
              "</style>\n",
              "<table border=\"1\" class=\"dataframe\">\n",
              "  <thead>\n",
              "    <tr style=\"text-align: right;\">\n",
              "      <th></th>\n",
              "      <th>Nama</th>\n",
              "      <th>Umur</th>\n",
              "      <th>Alamat</th>\n",
              "      <th>Pekerjaan</th>\n",
              "    </tr>\n",
              "  </thead>\n",
              "  <tbody>\n",
              "    <tr>\n",
              "      <th>0</th>\n",
              "      <td>Tono</td>\n",
              "      <td>26</td>\n",
              "      <td>Jogja</td>\n",
              "      <td>marketing</td>\n",
              "    </tr>\n",
              "    <tr>\n",
              "      <th>1</th>\n",
              "      <td>Rini</td>\n",
              "      <td>29</td>\n",
              "      <td>Semarang</td>\n",
              "      <td>CS</td>\n",
              "    </tr>\n",
              "    <tr>\n",
              "      <th>2</th>\n",
              "      <td>joko</td>\n",
              "      <td>22</td>\n",
              "      <td>Jakarta</td>\n",
              "      <td>security</td>\n",
              "    </tr>\n",
              "    <tr>\n",
              "      <th>3</th>\n",
              "      <td>Budi</td>\n",
              "      <td>24</td>\n",
              "      <td>Malang</td>\n",
              "      <td>programmer</td>\n",
              "    </tr>\n",
              "  </tbody>\n",
              "</table>\n",
              "</div>"
            ],
            "text/plain": [
              "   Nama  Umur    Alamat   Pekerjaan\n",
              "0  Tono    26     Jogja   marketing\n",
              "1  Rini    29  Semarang          CS\n",
              "2  joko    22   Jakarta    security\n",
              "3  Budi    24    Malang  programmer"
            ]
          },
          "metadata": {
            "tags": []
          },
          "execution_count": 14
        }
      ]
    },
    {
      "cell_type": "code",
      "metadata": {
        "colab": {
          "base_uri": "https://localhost:8080/",
          "height": 173
        },
        "id": "Q8PEt_-Q0SaK",
        "outputId": "ead5def8-fb2e-48bd-87e7-9852b3684db4"
      },
      "source": [
        "sorted_column = sorted_df.sort_index(axis=1)\n",
        "sorted_column"
      ],
      "execution_count": null,
      "outputs": [
        {
          "output_type": "execute_result",
          "data": {
            "text/html": [
              "<div>\n",
              "<style scoped>\n",
              "    .dataframe tbody tr th:only-of-type {\n",
              "        vertical-align: middle;\n",
              "    }\n",
              "\n",
              "    .dataframe tbody tr th {\n",
              "        vertical-align: top;\n",
              "    }\n",
              "\n",
              "    .dataframe thead th {\n",
              "        text-align: right;\n",
              "    }\n",
              "</style>\n",
              "<table border=\"1\" class=\"dataframe\">\n",
              "  <thead>\n",
              "    <tr style=\"text-align: right;\">\n",
              "      <th></th>\n",
              "      <th>Alamat</th>\n",
              "      <th>Nama</th>\n",
              "      <th>Pekerjaan</th>\n",
              "      <th>Umur</th>\n",
              "    </tr>\n",
              "  </thead>\n",
              "  <tbody>\n",
              "    <tr>\n",
              "      <th>0</th>\n",
              "      <td>Jogja</td>\n",
              "      <td>Tono</td>\n",
              "      <td>marketing</td>\n",
              "      <td>26</td>\n",
              "    </tr>\n",
              "    <tr>\n",
              "      <th>1</th>\n",
              "      <td>Semarang</td>\n",
              "      <td>Rini</td>\n",
              "      <td>CS</td>\n",
              "      <td>29</td>\n",
              "    </tr>\n",
              "    <tr>\n",
              "      <th>2</th>\n",
              "      <td>Jakarta</td>\n",
              "      <td>joko</td>\n",
              "      <td>security</td>\n",
              "      <td>22</td>\n",
              "    </tr>\n",
              "    <tr>\n",
              "      <th>3</th>\n",
              "      <td>Malang</td>\n",
              "      <td>Budi</td>\n",
              "      <td>programmer</td>\n",
              "      <td>24</td>\n",
              "    </tr>\n",
              "  </tbody>\n",
              "</table>\n",
              "</div>"
            ],
            "text/plain": [
              "     Alamat  Nama   Pekerjaan  Umur\n",
              "0     Jogja  Tono   marketing    26\n",
              "1  Semarang  Rini          CS    29\n",
              "2   Jakarta  joko    security    22\n",
              "3    Malang  Budi  programmer    24"
            ]
          },
          "metadata": {
            "tags": []
          },
          "execution_count": 15
        }
      ]
    },
    {
      "cell_type": "markdown",
      "metadata": {
        "id": "Ydw71Y670kOH"
      },
      "source": [
        "##Sorted Value"
      ]
    },
    {
      "cell_type": "code",
      "metadata": {
        "id": "b3bQolri0mk9",
        "colab": {
          "base_uri": "https://localhost:8080/",
          "height": 173
        },
        "outputId": "848b98eb-1bd9-4568-a960-057565b8c6f4"
      },
      "source": [
        "data = {'Nama' : ['joko', 'Budi', 'Tono', 'Rini'],\n",
        "        'Umur' : [22, 24, 26, 29],\n",
        "        'Alamat' : ['Jakarta', 'Malang', 'Jogja', 'Semarang'],\n",
        "        'Pekerjaan' : ['security', 'programmer', 'marketing', 'CS']}\n",
        "\n",
        "df = pd.DataFrame(data)\n",
        "df"
      ],
      "execution_count": null,
      "outputs": [
        {
          "output_type": "execute_result",
          "data": {
            "text/html": [
              "<div>\n",
              "<style scoped>\n",
              "    .dataframe tbody tr th:only-of-type {\n",
              "        vertical-align: middle;\n",
              "    }\n",
              "\n",
              "    .dataframe tbody tr th {\n",
              "        vertical-align: top;\n",
              "    }\n",
              "\n",
              "    .dataframe thead th {\n",
              "        text-align: right;\n",
              "    }\n",
              "</style>\n",
              "<table border=\"1\" class=\"dataframe\">\n",
              "  <thead>\n",
              "    <tr style=\"text-align: right;\">\n",
              "      <th></th>\n",
              "      <th>Nama</th>\n",
              "      <th>Umur</th>\n",
              "      <th>Alamat</th>\n",
              "      <th>Pekerjaan</th>\n",
              "    </tr>\n",
              "  </thead>\n",
              "  <tbody>\n",
              "    <tr>\n",
              "      <th>0</th>\n",
              "      <td>joko</td>\n",
              "      <td>22</td>\n",
              "      <td>Jakarta</td>\n",
              "      <td>security</td>\n",
              "    </tr>\n",
              "    <tr>\n",
              "      <th>1</th>\n",
              "      <td>Budi</td>\n",
              "      <td>24</td>\n",
              "      <td>Malang</td>\n",
              "      <td>programmer</td>\n",
              "    </tr>\n",
              "    <tr>\n",
              "      <th>2</th>\n",
              "      <td>Tono</td>\n",
              "      <td>26</td>\n",
              "      <td>Jogja</td>\n",
              "      <td>marketing</td>\n",
              "    </tr>\n",
              "    <tr>\n",
              "      <th>3</th>\n",
              "      <td>Rini</td>\n",
              "      <td>29</td>\n",
              "      <td>Semarang</td>\n",
              "      <td>CS</td>\n",
              "    </tr>\n",
              "  </tbody>\n",
              "</table>\n",
              "</div>"
            ],
            "text/plain": [
              "   Nama  Umur    Alamat   Pekerjaan\n",
              "0  joko    22   Jakarta    security\n",
              "1  Budi    24    Malang  programmer\n",
              "2  Tono    26     Jogja   marketing\n",
              "3  Rini    29  Semarang          CS"
            ]
          },
          "metadata": {
            "tags": []
          },
          "execution_count": 46
        }
      ]
    },
    {
      "cell_type": "code",
      "metadata": {
        "colab": {
          "base_uri": "https://localhost:8080/",
          "height": 173
        },
        "id": "hDNuCz1h0yFK",
        "outputId": "c632d80a-315f-45e9-f3de-33d067d4fd65"
      },
      "source": [
        "# Sort value from single column\n",
        "df_sorted = df.sort_values(by = 'Umur')\n",
        "df_sorted"
      ],
      "execution_count": null,
      "outputs": [
        {
          "output_type": "execute_result",
          "data": {
            "text/html": [
              "<div>\n",
              "<style scoped>\n",
              "    .dataframe tbody tr th:only-of-type {\n",
              "        vertical-align: middle;\n",
              "    }\n",
              "\n",
              "    .dataframe tbody tr th {\n",
              "        vertical-align: top;\n",
              "    }\n",
              "\n",
              "    .dataframe thead th {\n",
              "        text-align: right;\n",
              "    }\n",
              "</style>\n",
              "<table border=\"1\" class=\"dataframe\">\n",
              "  <thead>\n",
              "    <tr style=\"text-align: right;\">\n",
              "      <th></th>\n",
              "      <th>Nama</th>\n",
              "      <th>Umur</th>\n",
              "      <th>Alamat</th>\n",
              "      <th>Pekerjaan</th>\n",
              "    </tr>\n",
              "  </thead>\n",
              "  <tbody>\n",
              "    <tr>\n",
              "      <th>0</th>\n",
              "      <td>joko</td>\n",
              "      <td>22</td>\n",
              "      <td>Jakarta</td>\n",
              "      <td>security</td>\n",
              "    </tr>\n",
              "    <tr>\n",
              "      <th>1</th>\n",
              "      <td>Budi</td>\n",
              "      <td>24</td>\n",
              "      <td>Malang</td>\n",
              "      <td>programmer</td>\n",
              "    </tr>\n",
              "    <tr>\n",
              "      <th>2</th>\n",
              "      <td>Tono</td>\n",
              "      <td>26</td>\n",
              "      <td>Jogja</td>\n",
              "      <td>marketing</td>\n",
              "    </tr>\n",
              "    <tr>\n",
              "      <th>3</th>\n",
              "      <td>Rini</td>\n",
              "      <td>29</td>\n",
              "      <td>Semarang</td>\n",
              "      <td>CS</td>\n",
              "    </tr>\n",
              "  </tbody>\n",
              "</table>\n",
              "</div>"
            ],
            "text/plain": [
              "   Nama  Umur    Alamat   Pekerjaan\n",
              "0  joko    22   Jakarta    security\n",
              "1  Budi    24    Malang  programmer\n",
              "2  Tono    26     Jogja   marketing\n",
              "3  Rini    29  Semarang          CS"
            ]
          },
          "metadata": {
            "tags": []
          },
          "execution_count": 32
        }
      ]
    },
    {
      "cell_type": "code",
      "metadata": {
        "colab": {
          "base_uri": "https://localhost:8080/",
          "height": 173
        },
        "id": "fkEvXisWe-oy",
        "outputId": "2767e5bf-b523-44d3-a59a-d6bfbea0f1af"
      },
      "source": [
        "# Sort value from multi column\n",
        "df_sorted = df.sort_values(['Pekerjaan', 'Nama'])\n",
        "df_sorted"
      ],
      "execution_count": null,
      "outputs": [
        {
          "output_type": "execute_result",
          "data": {
            "text/html": [
              "<div>\n",
              "<style scoped>\n",
              "    .dataframe tbody tr th:only-of-type {\n",
              "        vertical-align: middle;\n",
              "    }\n",
              "\n",
              "    .dataframe tbody tr th {\n",
              "        vertical-align: top;\n",
              "    }\n",
              "\n",
              "    .dataframe thead th {\n",
              "        text-align: right;\n",
              "    }\n",
              "</style>\n",
              "<table border=\"1\" class=\"dataframe\">\n",
              "  <thead>\n",
              "    <tr style=\"text-align: right;\">\n",
              "      <th></th>\n",
              "      <th>Nama</th>\n",
              "      <th>Umur</th>\n",
              "      <th>Alamat</th>\n",
              "      <th>Pekerjaan</th>\n",
              "    </tr>\n",
              "  </thead>\n",
              "  <tbody>\n",
              "    <tr>\n",
              "      <th>3</th>\n",
              "      <td>Rini</td>\n",
              "      <td>29</td>\n",
              "      <td>Semarang</td>\n",
              "      <td>CS</td>\n",
              "    </tr>\n",
              "    <tr>\n",
              "      <th>2</th>\n",
              "      <td>Tono</td>\n",
              "      <td>26</td>\n",
              "      <td>Jogja</td>\n",
              "      <td>marketing</td>\n",
              "    </tr>\n",
              "    <tr>\n",
              "      <th>1</th>\n",
              "      <td>Budi</td>\n",
              "      <td>24</td>\n",
              "      <td>Malang</td>\n",
              "      <td>programmer</td>\n",
              "    </tr>\n",
              "    <tr>\n",
              "      <th>0</th>\n",
              "      <td>joko</td>\n",
              "      <td>22</td>\n",
              "      <td>Jakarta</td>\n",
              "      <td>security</td>\n",
              "    </tr>\n",
              "  </tbody>\n",
              "</table>\n",
              "</div>"
            ],
            "text/plain": [
              "   Nama  Umur    Alamat   Pekerjaan\n",
              "3  Rini    29  Semarang          CS\n",
              "2  Tono    26     Jogja   marketing\n",
              "1  Budi    24    Malang  programmer\n",
              "0  joko    22   Jakarta    security"
            ]
          },
          "metadata": {
            "tags": []
          },
          "execution_count": 35
        }
      ]
    },
    {
      "cell_type": "markdown",
      "metadata": {
        "id": "htpPKpOQ15e7"
      },
      "source": [
        "##Filtering"
      ]
    },
    {
      "cell_type": "code",
      "metadata": {
        "colab": {
          "base_uri": "https://localhost:8080/",
          "height": 173
        },
        "id": "0miQUJTl17JY",
        "outputId": "772e19cd-25d8-4965-9240-02ba56750b0e"
      },
      "source": [
        "data = {'Nama' : ['joko', 'Budi', 'Tono', 'Rini'],\n",
        "        'Umur' : [22, 24, 26, 29],\n",
        "        'Alamat' : ['Jakarta', 'Malang', 'Jogja', 'Semarang'],\n",
        "        'Pekerjaan' : ['security', 'programmer', 'marketing', 'CS']}\n",
        "\n",
        "df = pd.DataFrame(data)\n",
        "df"
      ],
      "execution_count": null,
      "outputs": [
        {
          "output_type": "execute_result",
          "data": {
            "text/html": [
              "<div>\n",
              "<style scoped>\n",
              "    .dataframe tbody tr th:only-of-type {\n",
              "        vertical-align: middle;\n",
              "    }\n",
              "\n",
              "    .dataframe tbody tr th {\n",
              "        vertical-align: top;\n",
              "    }\n",
              "\n",
              "    .dataframe thead th {\n",
              "        text-align: right;\n",
              "    }\n",
              "</style>\n",
              "<table border=\"1\" class=\"dataframe\">\n",
              "  <thead>\n",
              "    <tr style=\"text-align: right;\">\n",
              "      <th></th>\n",
              "      <th>Nama</th>\n",
              "      <th>Umur</th>\n",
              "      <th>Alamat</th>\n",
              "      <th>Pekerjaan</th>\n",
              "    </tr>\n",
              "  </thead>\n",
              "  <tbody>\n",
              "    <tr>\n",
              "      <th>0</th>\n",
              "      <td>joko</td>\n",
              "      <td>22</td>\n",
              "      <td>Jakarta</td>\n",
              "      <td>security</td>\n",
              "    </tr>\n",
              "    <tr>\n",
              "      <th>1</th>\n",
              "      <td>Budi</td>\n",
              "      <td>24</td>\n",
              "      <td>Malang</td>\n",
              "      <td>programmer</td>\n",
              "    </tr>\n",
              "    <tr>\n",
              "      <th>2</th>\n",
              "      <td>Tono</td>\n",
              "      <td>26</td>\n",
              "      <td>Jogja</td>\n",
              "      <td>marketing</td>\n",
              "    </tr>\n",
              "    <tr>\n",
              "      <th>3</th>\n",
              "      <td>Rini</td>\n",
              "      <td>29</td>\n",
              "      <td>Semarang</td>\n",
              "      <td>CS</td>\n",
              "    </tr>\n",
              "  </tbody>\n",
              "</table>\n",
              "</div>"
            ],
            "text/plain": [
              "   Nama  Umur    Alamat   Pekerjaan\n",
              "0  joko    22   Jakarta    security\n",
              "1  Budi    24    Malang  programmer\n",
              "2  Tono    26     Jogja   marketing\n",
              "3  Rini    29  Semarang          CS"
            ]
          },
          "metadata": {
            "tags": []
          },
          "execution_count": 38
        }
      ]
    },
    {
      "cell_type": "code",
      "metadata": {
        "colab": {
          "base_uri": "https://localhost:8080/",
          "height": 111
        },
        "id": "PPwv4753fvId",
        "outputId": "893d6b67-3a24-4a37-b810-8b1996556a46"
      },
      "source": [
        "# Using logical operator\n",
        "filtered_df = df[(df.Umur > 25)]\n",
        "filtered_df"
      ],
      "execution_count": null,
      "outputs": [
        {
          "output_type": "execute_result",
          "data": {
            "text/html": [
              "<div>\n",
              "<style scoped>\n",
              "    .dataframe tbody tr th:only-of-type {\n",
              "        vertical-align: middle;\n",
              "    }\n",
              "\n",
              "    .dataframe tbody tr th {\n",
              "        vertical-align: top;\n",
              "    }\n",
              "\n",
              "    .dataframe thead th {\n",
              "        text-align: right;\n",
              "    }\n",
              "</style>\n",
              "<table border=\"1\" class=\"dataframe\">\n",
              "  <thead>\n",
              "    <tr style=\"text-align: right;\">\n",
              "      <th></th>\n",
              "      <th>Nama</th>\n",
              "      <th>Umur</th>\n",
              "      <th>Alamat</th>\n",
              "      <th>Pekerjaan</th>\n",
              "    </tr>\n",
              "  </thead>\n",
              "  <tbody>\n",
              "    <tr>\n",
              "      <th>2</th>\n",
              "      <td>Tono</td>\n",
              "      <td>26</td>\n",
              "      <td>Jogja</td>\n",
              "      <td>marketing</td>\n",
              "    </tr>\n",
              "    <tr>\n",
              "      <th>3</th>\n",
              "      <td>Rini</td>\n",
              "      <td>29</td>\n",
              "      <td>Semarang</td>\n",
              "      <td>CS</td>\n",
              "    </tr>\n",
              "  </tbody>\n",
              "</table>\n",
              "</div>"
            ],
            "text/plain": [
              "   Nama  Umur    Alamat  Pekerjaan\n",
              "2  Tono    26     Jogja  marketing\n",
              "3  Rini    29  Semarang         CS"
            ]
          },
          "metadata": {
            "tags": []
          },
          "execution_count": 58
        }
      ]
    },
    {
      "cell_type": "markdown",
      "metadata": {
        "id": "6Onwm_ua21_g"
      },
      "source": [
        "## Filter 2 kondisi"
      ]
    },
    {
      "cell_type": "code",
      "metadata": {
        "colab": {
          "base_uri": "https://localhost:8080/",
          "height": 111
        },
        "id": "cEaiMRDM24Qk",
        "outputId": "006b8e87-3a44-441e-a299-40f1185def9d"
      },
      "source": [
        "data = {'Nama' : ['Joko', 'Budi', 'Tono', 'Rini'],\n",
        "        'Umur' : [22, 24, 26, 29],\n",
        "        'Alamat' : ['Jakarta', 'Malang', 'Jogja', 'Malang'],\n",
        "        'Pekerjaan' : ['security', 'programmer', 'marketing', 'CS']}\n",
        "\n",
        "df = pd.DataFrame(data)\n",
        "\n",
        "filtered_df = df[(df.Umur > 23) & (df.Alamat == 'Malang')]\n",
        "filtered_df"
      ],
      "execution_count": null,
      "outputs": [
        {
          "output_type": "execute_result",
          "data": {
            "text/html": [
              "<div>\n",
              "<style scoped>\n",
              "    .dataframe tbody tr th:only-of-type {\n",
              "        vertical-align: middle;\n",
              "    }\n",
              "\n",
              "    .dataframe tbody tr th {\n",
              "        vertical-align: top;\n",
              "    }\n",
              "\n",
              "    .dataframe thead th {\n",
              "        text-align: right;\n",
              "    }\n",
              "</style>\n",
              "<table border=\"1\" class=\"dataframe\">\n",
              "  <thead>\n",
              "    <tr style=\"text-align: right;\">\n",
              "      <th></th>\n",
              "      <th>Nama</th>\n",
              "      <th>Umur</th>\n",
              "      <th>Alamat</th>\n",
              "      <th>Pekerjaan</th>\n",
              "    </tr>\n",
              "  </thead>\n",
              "  <tbody>\n",
              "    <tr>\n",
              "      <th>1</th>\n",
              "      <td>Budi</td>\n",
              "      <td>24</td>\n",
              "      <td>Malang</td>\n",
              "      <td>programmer</td>\n",
              "    </tr>\n",
              "    <tr>\n",
              "      <th>3</th>\n",
              "      <td>Rini</td>\n",
              "      <td>29</td>\n",
              "      <td>Malang</td>\n",
              "      <td>CS</td>\n",
              "    </tr>\n",
              "  </tbody>\n",
              "</table>\n",
              "</div>"
            ],
            "text/plain": [
              "   Nama  Umur  Alamat   Pekerjaan\n",
              "1  Budi    24  Malang  programmer\n",
              "3  Rini    29  Malang          CS"
            ]
          },
          "metadata": {
            "tags": []
          },
          "execution_count": 45
        }
      ]
    },
    {
      "cell_type": "markdown",
      "metadata": {
        "id": "6C9tLKY83-ea"
      },
      "source": [
        "# Filter (isin)"
      ]
    },
    {
      "cell_type": "code",
      "metadata": {
        "colab": {
          "base_uri": "https://localhost:8080/",
          "height": 173
        },
        "id": "Zrct4BUbhLjJ",
        "outputId": "515133a9-25ac-4a04-d45e-d34be5bfef9f"
      },
      "source": [
        "data = {'Nama' : ['Joko', 'Budi', 'Tono', 'Rini'],\n",
        "        'Umur' : [22, 24, 26, 29],\n",
        "        'Alamat' : ['Jakarta', 'Malang', 'Jogja', 'Semarang'],\n",
        "        'Pekerjaan' : ['security', 'programmer', 'marketing', 'CS']}\n",
        "\n",
        "df = pd.DataFrame(data)\n",
        "df"
      ],
      "execution_count": null,
      "outputs": [
        {
          "output_type": "execute_result",
          "data": {
            "text/html": [
              "<div>\n",
              "<style scoped>\n",
              "    .dataframe tbody tr th:only-of-type {\n",
              "        vertical-align: middle;\n",
              "    }\n",
              "\n",
              "    .dataframe tbody tr th {\n",
              "        vertical-align: top;\n",
              "    }\n",
              "\n",
              "    .dataframe thead th {\n",
              "        text-align: right;\n",
              "    }\n",
              "</style>\n",
              "<table border=\"1\" class=\"dataframe\">\n",
              "  <thead>\n",
              "    <tr style=\"text-align: right;\">\n",
              "      <th></th>\n",
              "      <th>Nama</th>\n",
              "      <th>Umur</th>\n",
              "      <th>Alamat</th>\n",
              "      <th>Pekerjaan</th>\n",
              "    </tr>\n",
              "  </thead>\n",
              "  <tbody>\n",
              "    <tr>\n",
              "      <th>0</th>\n",
              "      <td>Joko</td>\n",
              "      <td>22</td>\n",
              "      <td>Jakarta</td>\n",
              "      <td>security</td>\n",
              "    </tr>\n",
              "    <tr>\n",
              "      <th>1</th>\n",
              "      <td>Budi</td>\n",
              "      <td>24</td>\n",
              "      <td>Malang</td>\n",
              "      <td>programmer</td>\n",
              "    </tr>\n",
              "    <tr>\n",
              "      <th>2</th>\n",
              "      <td>Tono</td>\n",
              "      <td>26</td>\n",
              "      <td>Jogja</td>\n",
              "      <td>marketing</td>\n",
              "    </tr>\n",
              "    <tr>\n",
              "      <th>3</th>\n",
              "      <td>Rini</td>\n",
              "      <td>29</td>\n",
              "      <td>Semarang</td>\n",
              "      <td>CS</td>\n",
              "    </tr>\n",
              "  </tbody>\n",
              "</table>\n",
              "</div>"
            ],
            "text/plain": [
              "   Nama  Umur    Alamat   Pekerjaan\n",
              "0  Joko    22   Jakarta    security\n",
              "1  Budi    24    Malang  programmer\n",
              "2  Tono    26     Jogja   marketing\n",
              "3  Rini    29  Semarang          CS"
            ]
          },
          "metadata": {
            "tags": []
          },
          "execution_count": 55
        }
      ]
    },
    {
      "cell_type": "code",
      "metadata": {
        "colab": {
          "base_uri": "https://localhost:8080/",
          "height": 111
        },
        "id": "PwxG9U7t3mmt",
        "outputId": "62b5184b-c7a2-4609-f97e-bb2482852e7a"
      },
      "source": [
        "# Using isin()\n",
        "ames = ['Joko', 'Budi']\n",
        "filtered_df = df[df.Nama.isin(names)]\n",
        "filtered_df"
      ],
      "execution_count": null,
      "outputs": [
        {
          "output_type": "execute_result",
          "data": {
            "text/html": [
              "<div>\n",
              "<style scoped>\n",
              "    .dataframe tbody tr th:only-of-type {\n",
              "        vertical-align: middle;\n",
              "    }\n",
              "\n",
              "    .dataframe tbody tr th {\n",
              "        vertical-align: top;\n",
              "    }\n",
              "\n",
              "    .dataframe thead th {\n",
              "        text-align: right;\n",
              "    }\n",
              "</style>\n",
              "<table border=\"1\" class=\"dataframe\">\n",
              "  <thead>\n",
              "    <tr style=\"text-align: right;\">\n",
              "      <th></th>\n",
              "      <th>Nama</th>\n",
              "      <th>Umur</th>\n",
              "      <th>Alamat</th>\n",
              "      <th>Pekerjaan</th>\n",
              "    </tr>\n",
              "  </thead>\n",
              "  <tbody>\n",
              "    <tr>\n",
              "      <th>0</th>\n",
              "      <td>Joko</td>\n",
              "      <td>22</td>\n",
              "      <td>Jakarta</td>\n",
              "      <td>security</td>\n",
              "    </tr>\n",
              "    <tr>\n",
              "      <th>1</th>\n",
              "      <td>Budi</td>\n",
              "      <td>24</td>\n",
              "      <td>Malang</td>\n",
              "      <td>programmer</td>\n",
              "    </tr>\n",
              "  </tbody>\n",
              "</table>\n",
              "</div>"
            ],
            "text/plain": [
              "   Nama  Umur   Alamat   Pekerjaan\n",
              "0  Joko    22  Jakarta    security\n",
              "1  Budi    24   Malang  programmer"
            ]
          },
          "metadata": {
            "tags": []
          },
          "execution_count": 54
        }
      ]
    },
    {
      "cell_type": "markdown",
      "metadata": {
        "id": "YW--Cf7R4Jbl"
      },
      "source": [
        "##Filter using query"
      ]
    },
    {
      "cell_type": "code",
      "metadata": {
        "colab": {
          "base_uri": "https://localhost:8080/",
          "height": 111
        },
        "id": "n0QpQvAl4I4H",
        "outputId": "74700ed6-4bed-40d0-f3d9-9140f21b32b9"
      },
      "source": [
        "# Using Query\n",
        "filtered_df = df.query('Nama==\"Joko\" | Nama==\"Budi\"')\n",
        "filtered_df"
      ],
      "execution_count": null,
      "outputs": [
        {
          "output_type": "execute_result",
          "data": {
            "text/html": [
              "<div>\n",
              "<style scoped>\n",
              "    .dataframe tbody tr th:only-of-type {\n",
              "        vertical-align: middle;\n",
              "    }\n",
              "\n",
              "    .dataframe tbody tr th {\n",
              "        vertical-align: top;\n",
              "    }\n",
              "\n",
              "    .dataframe thead th {\n",
              "        text-align: right;\n",
              "    }\n",
              "</style>\n",
              "<table border=\"1\" class=\"dataframe\">\n",
              "  <thead>\n",
              "    <tr style=\"text-align: right;\">\n",
              "      <th></th>\n",
              "      <th>Nama</th>\n",
              "      <th>Umur</th>\n",
              "      <th>Alamat</th>\n",
              "      <th>Pekerjaan</th>\n",
              "    </tr>\n",
              "  </thead>\n",
              "  <tbody>\n",
              "    <tr>\n",
              "      <th>0</th>\n",
              "      <td>Joko</td>\n",
              "      <td>22</td>\n",
              "      <td>Jakarta</td>\n",
              "      <td>security</td>\n",
              "    </tr>\n",
              "    <tr>\n",
              "      <th>1</th>\n",
              "      <td>Budi</td>\n",
              "      <td>24</td>\n",
              "      <td>Malang</td>\n",
              "      <td>programmer</td>\n",
              "    </tr>\n",
              "  </tbody>\n",
              "</table>\n",
              "</div>"
            ],
            "text/plain": [
              "   Nama  Umur   Alamat   Pekerjaan\n",
              "0  Joko    22  Jakarta    security\n",
              "1  Budi    24   Malang  programmer"
            ]
          },
          "metadata": {
            "tags": []
          },
          "execution_count": 21
        }
      ]
    },
    {
      "cell_type": "markdown",
      "metadata": {
        "id": "Cl2ZAXCl5Dw8"
      },
      "source": [
        "#Filter using Loc"
      ]
    },
    {
      "cell_type": "code",
      "metadata": {
        "colab": {
          "base_uri": "https://localhost:8080/",
          "height": 111
        },
        "id": "lYoSZsF541RQ",
        "outputId": "f950075f-a358-4905-9513-77f762d72548"
      },
      "source": [
        "# Using loc()\n",
        "filtered_df = df.loc[(df.Umur>25)]\n",
        "filtered_df"
      ],
      "execution_count": null,
      "outputs": [
        {
          "output_type": "execute_result",
          "data": {
            "text/html": [
              "<div>\n",
              "<style scoped>\n",
              "    .dataframe tbody tr th:only-of-type {\n",
              "        vertical-align: middle;\n",
              "    }\n",
              "\n",
              "    .dataframe tbody tr th {\n",
              "        vertical-align: top;\n",
              "    }\n",
              "\n",
              "    .dataframe thead th {\n",
              "        text-align: right;\n",
              "    }\n",
              "</style>\n",
              "<table border=\"1\" class=\"dataframe\">\n",
              "  <thead>\n",
              "    <tr style=\"text-align: right;\">\n",
              "      <th></th>\n",
              "      <th>Nama</th>\n",
              "      <th>Umur</th>\n",
              "      <th>Alamat</th>\n",
              "      <th>Pekerjaan</th>\n",
              "    </tr>\n",
              "  </thead>\n",
              "  <tbody>\n",
              "    <tr>\n",
              "      <th>2</th>\n",
              "      <td>Tono</td>\n",
              "      <td>26</td>\n",
              "      <td>Jogja</td>\n",
              "      <td>marketing</td>\n",
              "    </tr>\n",
              "    <tr>\n",
              "      <th>3</th>\n",
              "      <td>Rini</td>\n",
              "      <td>29</td>\n",
              "      <td>Semarang</td>\n",
              "      <td>CS</td>\n",
              "    </tr>\n",
              "  </tbody>\n",
              "</table>\n",
              "</div>"
            ],
            "text/plain": [
              "   Nama  Umur    Alamat  Pekerjaan\n",
              "2  Tono    26     Jogja  marketing\n",
              "3  Rini    29  Semarang         CS"
            ]
          },
          "metadata": {
            "tags": []
          },
          "execution_count": 56
        }
      ]
    },
    {
      "cell_type": "markdown",
      "metadata": {
        "id": "LUrOU1LFiBIE"
      },
      "source": [
        "## Using Contains"
      ]
    },
    {
      "cell_type": "code",
      "metadata": {
        "colab": {
          "base_uri": "https://localhost:8080/",
          "height": 80
        },
        "id": "INtredJQ5Gl8",
        "outputId": "2cacc28c-f235-405f-b079-87832374be6c"
      },
      "source": [
        "# Using Contains()\n",
        "filtered_df = df[df.Pekerjaan.str.contains('secu')]\n",
        "filtered_df"
      ],
      "execution_count": null,
      "outputs": [
        {
          "output_type": "execute_result",
          "data": {
            "text/html": [
              "<div>\n",
              "<style scoped>\n",
              "    .dataframe tbody tr th:only-of-type {\n",
              "        vertical-align: middle;\n",
              "    }\n",
              "\n",
              "    .dataframe tbody tr th {\n",
              "        vertical-align: top;\n",
              "    }\n",
              "\n",
              "    .dataframe thead th {\n",
              "        text-align: right;\n",
              "    }\n",
              "</style>\n",
              "<table border=\"1\" class=\"dataframe\">\n",
              "  <thead>\n",
              "    <tr style=\"text-align: right;\">\n",
              "      <th></th>\n",
              "      <th>Nama</th>\n",
              "      <th>Umur</th>\n",
              "      <th>Alamat</th>\n",
              "      <th>Pekerjaan</th>\n",
              "    </tr>\n",
              "  </thead>\n",
              "  <tbody>\n",
              "    <tr>\n",
              "      <th>0</th>\n",
              "      <td>Joko</td>\n",
              "      <td>22</td>\n",
              "      <td>Jakarta</td>\n",
              "      <td>security</td>\n",
              "    </tr>\n",
              "  </tbody>\n",
              "</table>\n",
              "</div>"
            ],
            "text/plain": [
              "   Nama  Umur   Alamat Pekerjaan\n",
              "0  Joko    22  Jakarta  security"
            ]
          },
          "metadata": {
            "tags": []
          },
          "execution_count": 57
        }
      ]
    },
    {
      "cell_type": "markdown",
      "metadata": {
        "id": "7S9VsnUN5NhT"
      },
      "source": [
        "#Grouping"
      ]
    },
    {
      "cell_type": "code",
      "metadata": {
        "colab": {
          "base_uri": "https://localhost:8080/",
          "height": 173
        },
        "id": "BoWoXVjt5cCY",
        "outputId": "7e9328ae-103e-4fb5-effa-25d9860c92d7"
      },
      "source": [
        "data = {'Nama' : ['Joko', 'Budi', 'Tono', 'Rini'],\n",
        "        'Umur' : [22, 24, 26, 29],\n",
        "        'Alamat' : ['Jakarta', 'Malang', 'Jogja', 'Malang'],\n",
        "        'Pekerjaan' : ['security', 'Programmer', 'Programmer', 'Marketing'],\n",
        "        'Gaji' : [200, 300, 300, 250]}\n",
        "df = pd.DataFrame(data)\n",
        "df"
      ],
      "execution_count": null,
      "outputs": [
        {
          "output_type": "execute_result",
          "data": {
            "text/html": [
              "<div>\n",
              "<style scoped>\n",
              "    .dataframe tbody tr th:only-of-type {\n",
              "        vertical-align: middle;\n",
              "    }\n",
              "\n",
              "    .dataframe tbody tr th {\n",
              "        vertical-align: top;\n",
              "    }\n",
              "\n",
              "    .dataframe thead th {\n",
              "        text-align: right;\n",
              "    }\n",
              "</style>\n",
              "<table border=\"1\" class=\"dataframe\">\n",
              "  <thead>\n",
              "    <tr style=\"text-align: right;\">\n",
              "      <th></th>\n",
              "      <th>Nama</th>\n",
              "      <th>Umur</th>\n",
              "      <th>Alamat</th>\n",
              "      <th>Pekerjaan</th>\n",
              "      <th>Gaji</th>\n",
              "    </tr>\n",
              "  </thead>\n",
              "  <tbody>\n",
              "    <tr>\n",
              "      <th>0</th>\n",
              "      <td>Joko</td>\n",
              "      <td>22</td>\n",
              "      <td>Jakarta</td>\n",
              "      <td>security</td>\n",
              "      <td>200</td>\n",
              "    </tr>\n",
              "    <tr>\n",
              "      <th>1</th>\n",
              "      <td>Budi</td>\n",
              "      <td>24</td>\n",
              "      <td>Malang</td>\n",
              "      <td>Programmer</td>\n",
              "      <td>300</td>\n",
              "    </tr>\n",
              "    <tr>\n",
              "      <th>2</th>\n",
              "      <td>Tono</td>\n",
              "      <td>26</td>\n",
              "      <td>Jogja</td>\n",
              "      <td>Programmer</td>\n",
              "      <td>300</td>\n",
              "    </tr>\n",
              "    <tr>\n",
              "      <th>3</th>\n",
              "      <td>Rini</td>\n",
              "      <td>29</td>\n",
              "      <td>Malang</td>\n",
              "      <td>Marketing</td>\n",
              "      <td>250</td>\n",
              "    </tr>\n",
              "  </tbody>\n",
              "</table>\n",
              "</div>"
            ],
            "text/plain": [
              "   Nama  Umur   Alamat   Pekerjaan  Gaji\n",
              "0  Joko    22  Jakarta    security   200\n",
              "1  Budi    24   Malang  Programmer   300\n",
              "2  Tono    26    Jogja  Programmer   300\n",
              "3  Rini    29   Malang   Marketing   250"
            ]
          },
          "metadata": {
            "tags": []
          },
          "execution_count": 66
        }
      ]
    },
    {
      "cell_type": "code",
      "metadata": {
        "colab": {
          "base_uri": "https://localhost:8080/"
        },
        "id": "Grq79-Wq5vuQ",
        "outputId": "d144f826-a3d6-454e-b55b-b3c5cc016cec"
      },
      "source": [
        "grouped = df.groupby('Pekerjaan')\n",
        "\n",
        "for Pekerjaan, group in grouped:\n",
        "  print(Pekerjaan)\n",
        "  print(group)"
      ],
      "execution_count": null,
      "outputs": [
        {
          "output_type": "stream",
          "text": [
            "Marketing\n",
            "   Nama  Umur  Alamat  Pekerjaan  Gaji\n",
            "3  Rini    29  Malang  Marketing   250\n",
            "Programmer\n",
            "   Nama  Umur  Alamat   Pekerjaan  Gaji\n",
            "1  Budi    24  Malang  Programmer   300\n",
            "2  Tono    26   Jogja  Programmer   300\n",
            "security\n",
            "   Nama  Umur   Alamat Pekerjaan  Gaji\n",
            "0  Joko    22  Jakarta  security   200\n"
          ],
          "name": "stdout"
        }
      ]
    },
    {
      "cell_type": "code",
      "metadata": {
        "colab": {
          "base_uri": "https://localhost:8080/"
        },
        "id": "Sfk2OFC8k5Kg",
        "outputId": "5899d9b0-5ee8-48dd-a0fd-776670dc2d96"
      },
      "source": [
        "grouped = df.groupby('Pekerjaan')\n",
        "print(grouped.get_group('Programmer'))"
      ],
      "execution_count": null,
      "outputs": [
        {
          "output_type": "stream",
          "text": [
            "   Nama  Umur  Alamat   Pekerjaan  Gaji\n",
            "1  Budi    24  Malang  Programmer   300\n",
            "2  Tono    26   Jogja  Programmer   300\n"
          ],
          "name": "stdout"
        }
      ]
    },
    {
      "cell_type": "markdown",
      "metadata": {
        "id": "flmeK2dW7Fz7"
      },
      "source": [
        "#Aggregation"
      ]
    },
    {
      "cell_type": "code",
      "metadata": {
        "colab": {
          "base_uri": "https://localhost:8080/",
          "height": 173
        },
        "id": "byB_ud_U7HUe",
        "outputId": "a7f65a35-b2a4-4935-de98-ed3d7cc6baf2"
      },
      "source": [
        "data = {'Nama' : ['Joko', 'Budi', 'Tono', 'Rini'],\n",
        "        'Umur' : [22, 24, 26, 29],\n",
        "        'Alamat' : ['Jakarta', 'Malang', 'Jogja', 'Malang'],\n",
        "        'Pekerjaan' : ['security', 'Programmer', 'Programmer', 'Marketing'],\n",
        "        'Gaji' : [200, 300, 300, 250]}\n",
        "df = pd.DataFrame(data)\n",
        "df"
      ],
      "execution_count": null,
      "outputs": [
        {
          "output_type": "execute_result",
          "data": {
            "text/html": [
              "<div>\n",
              "<style scoped>\n",
              "    .dataframe tbody tr th:only-of-type {\n",
              "        vertical-align: middle;\n",
              "    }\n",
              "\n",
              "    .dataframe tbody tr th {\n",
              "        vertical-align: top;\n",
              "    }\n",
              "\n",
              "    .dataframe thead th {\n",
              "        text-align: right;\n",
              "    }\n",
              "</style>\n",
              "<table border=\"1\" class=\"dataframe\">\n",
              "  <thead>\n",
              "    <tr style=\"text-align: right;\">\n",
              "      <th></th>\n",
              "      <th>Nama</th>\n",
              "      <th>Umur</th>\n",
              "      <th>Alamat</th>\n",
              "      <th>Pekerjaan</th>\n",
              "      <th>Gaji</th>\n",
              "    </tr>\n",
              "  </thead>\n",
              "  <tbody>\n",
              "    <tr>\n",
              "      <th>0</th>\n",
              "      <td>Joko</td>\n",
              "      <td>22</td>\n",
              "      <td>Jakarta</td>\n",
              "      <td>security</td>\n",
              "      <td>200</td>\n",
              "    </tr>\n",
              "    <tr>\n",
              "      <th>1</th>\n",
              "      <td>Budi</td>\n",
              "      <td>24</td>\n",
              "      <td>Malang</td>\n",
              "      <td>Programmer</td>\n",
              "      <td>300</td>\n",
              "    </tr>\n",
              "    <tr>\n",
              "      <th>2</th>\n",
              "      <td>Tono</td>\n",
              "      <td>26</td>\n",
              "      <td>Jogja</td>\n",
              "      <td>Programmer</td>\n",
              "      <td>300</td>\n",
              "    </tr>\n",
              "    <tr>\n",
              "      <th>3</th>\n",
              "      <td>Rini</td>\n",
              "      <td>29</td>\n",
              "      <td>Malang</td>\n",
              "      <td>Marketing</td>\n",
              "      <td>250</td>\n",
              "    </tr>\n",
              "  </tbody>\n",
              "</table>\n",
              "</div>"
            ],
            "text/plain": [
              "   Nama  Umur   Alamat   Pekerjaan  Gaji\n",
              "0  Joko    22  Jakarta    security   200\n",
              "1  Budi    24   Malang  Programmer   300\n",
              "2  Tono    26    Jogja  Programmer   300\n",
              "3  Rini    29   Malang   Marketing   250"
            ]
          },
          "metadata": {
            "tags": []
          },
          "execution_count": 69
        }
      ]
    },
    {
      "cell_type": "code",
      "metadata": {
        "colab": {
          "base_uri": "https://localhost:8080/",
          "height": 173
        },
        "id": "oV8G-jvF76J2",
        "outputId": "b1f545c9-bb89-4616-f713-c641e4d2309a"
      },
      "source": [
        "grouped = df.groupby('Pekerjaan').sum()\n",
        "grouped"
      ],
      "execution_count": null,
      "outputs": [
        {
          "output_type": "execute_result",
          "data": {
            "text/html": [
              "<div>\n",
              "<style scoped>\n",
              "    .dataframe tbody tr th:only-of-type {\n",
              "        vertical-align: middle;\n",
              "    }\n",
              "\n",
              "    .dataframe tbody tr th {\n",
              "        vertical-align: top;\n",
              "    }\n",
              "\n",
              "    .dataframe thead th {\n",
              "        text-align: right;\n",
              "    }\n",
              "</style>\n",
              "<table border=\"1\" class=\"dataframe\">\n",
              "  <thead>\n",
              "    <tr style=\"text-align: right;\">\n",
              "      <th></th>\n",
              "      <th>Umur</th>\n",
              "      <th>Gaji</th>\n",
              "    </tr>\n",
              "    <tr>\n",
              "      <th>Pekerjaan</th>\n",
              "      <th></th>\n",
              "      <th></th>\n",
              "    </tr>\n",
              "  </thead>\n",
              "  <tbody>\n",
              "    <tr>\n",
              "      <th>Marketing</th>\n",
              "      <td>29</td>\n",
              "      <td>250</td>\n",
              "    </tr>\n",
              "    <tr>\n",
              "      <th>Programmer</th>\n",
              "      <td>50</td>\n",
              "      <td>600</td>\n",
              "    </tr>\n",
              "    <tr>\n",
              "      <th>security</th>\n",
              "      <td>22</td>\n",
              "      <td>200</td>\n",
              "    </tr>\n",
              "  </tbody>\n",
              "</table>\n",
              "</div>"
            ],
            "text/plain": [
              "            Umur  Gaji\n",
              "Pekerjaan             \n",
              "Marketing     29   250\n",
              "Programmer    50   600\n",
              "security      22   200"
            ]
          },
          "metadata": {
            "tags": []
          },
          "execution_count": 36
        }
      ]
    },
    {
      "cell_type": "code",
      "metadata": {
        "colab": {
          "base_uri": "https://localhost:8080/",
          "height": 204
        },
        "id": "fanBfAMb7Fcx",
        "outputId": "61741e74-5912-4d1e-9cbc-a1bb95d04056"
      },
      "source": [
        "grouped = df.groupby('Pekerjaan').agg([np.sum, np.mean, np.max])\n",
        "grouped"
      ],
      "execution_count": null,
      "outputs": [
        {
          "output_type": "execute_result",
          "data": {
            "text/html": [
              "<div>\n",
              "<style scoped>\n",
              "    .dataframe tbody tr th:only-of-type {\n",
              "        vertical-align: middle;\n",
              "    }\n",
              "\n",
              "    .dataframe tbody tr th {\n",
              "        vertical-align: top;\n",
              "    }\n",
              "\n",
              "    .dataframe thead tr th {\n",
              "        text-align: left;\n",
              "    }\n",
              "\n",
              "    .dataframe thead tr:last-of-type th {\n",
              "        text-align: right;\n",
              "    }\n",
              "</style>\n",
              "<table border=\"1\" class=\"dataframe\">\n",
              "  <thead>\n",
              "    <tr>\n",
              "      <th></th>\n",
              "      <th colspan=\"3\" halign=\"left\">Umur</th>\n",
              "      <th colspan=\"3\" halign=\"left\">Gaji</th>\n",
              "    </tr>\n",
              "    <tr>\n",
              "      <th></th>\n",
              "      <th>sum</th>\n",
              "      <th>mean</th>\n",
              "      <th>amax</th>\n",
              "      <th>sum</th>\n",
              "      <th>mean</th>\n",
              "      <th>amax</th>\n",
              "    </tr>\n",
              "    <tr>\n",
              "      <th>Pekerjaan</th>\n",
              "      <th></th>\n",
              "      <th></th>\n",
              "      <th></th>\n",
              "      <th></th>\n",
              "      <th></th>\n",
              "      <th></th>\n",
              "    </tr>\n",
              "  </thead>\n",
              "  <tbody>\n",
              "    <tr>\n",
              "      <th>Marketing</th>\n",
              "      <td>29</td>\n",
              "      <td>29</td>\n",
              "      <td>29</td>\n",
              "      <td>250</td>\n",
              "      <td>250</td>\n",
              "      <td>250</td>\n",
              "    </tr>\n",
              "    <tr>\n",
              "      <th>Programmer</th>\n",
              "      <td>50</td>\n",
              "      <td>25</td>\n",
              "      <td>26</td>\n",
              "      <td>600</td>\n",
              "      <td>300</td>\n",
              "      <td>300</td>\n",
              "    </tr>\n",
              "    <tr>\n",
              "      <th>security</th>\n",
              "      <td>22</td>\n",
              "      <td>22</td>\n",
              "      <td>22</td>\n",
              "      <td>200</td>\n",
              "      <td>200</td>\n",
              "      <td>200</td>\n",
              "    </tr>\n",
              "  </tbody>\n",
              "</table>\n",
              "</div>"
            ],
            "text/plain": [
              "           Umur           Gaji          \n",
              "            sum mean amax  sum mean amax\n",
              "Pekerjaan                               \n",
              "Marketing    29   29   29  250  250  250\n",
              "Programmer   50   25   26  600  300  300\n",
              "security     22   22   22  200  200  200"
            ]
          },
          "metadata": {
            "tags": []
          },
          "execution_count": 72
        }
      ]
    },
    {
      "cell_type": "markdown",
      "metadata": {
        "id": "JPbljZRq9ovK"
      },
      "source": [
        "# Merging DataFrame"
      ]
    },
    {
      "cell_type": "code",
      "metadata": {
        "colab": {
          "base_uri": "https://localhost:8080/",
          "height": 173
        },
        "id": "vW3w3_mr9rjy",
        "outputId": "0df825dc-9638-4bd3-a5d0-a023fc4da90c"
      },
      "source": [
        "import pandas as pd\n",
        "kiri = pd.DataFrame({'ID' : [1,3,6,7], \n",
        "        'Nama' : ['Joko', 'Budi', 'Tono', 'Rini'],\n",
        "        'Umur' : [22, 24, 26, 29],\n",
        "        'Alamat' : ['Jakarta', 'Malang', 'Jogja', 'Malang'],\n",
        "        'Pekerjaan' : ['security', 'Programmer', 'Programmer', 'Marketing']})\n",
        "\n",
        "kanan = pd.DataFrame({'ID' : [1,2,3,4,5,6,7],\n",
        "                      'Gaji' : [100, 200, 300, 400, 500, 600, 700]})\n",
        "                      \n",
        "        \n",
        "gabung = pd.merge(kiri, kanan, how = 'inner')\n",
        "gabung\n"
      ],
      "execution_count": null,
      "outputs": [
        {
          "output_type": "execute_result",
          "data": {
            "text/html": [
              "<div>\n",
              "<style scoped>\n",
              "    .dataframe tbody tr th:only-of-type {\n",
              "        vertical-align: middle;\n",
              "    }\n",
              "\n",
              "    .dataframe tbody tr th {\n",
              "        vertical-align: top;\n",
              "    }\n",
              "\n",
              "    .dataframe thead th {\n",
              "        text-align: right;\n",
              "    }\n",
              "</style>\n",
              "<table border=\"1\" class=\"dataframe\">\n",
              "  <thead>\n",
              "    <tr style=\"text-align: right;\">\n",
              "      <th></th>\n",
              "      <th>ID</th>\n",
              "      <th>Nama</th>\n",
              "      <th>Umur</th>\n",
              "      <th>Alamat</th>\n",
              "      <th>Pekerjaan</th>\n",
              "      <th>Gaji</th>\n",
              "    </tr>\n",
              "  </thead>\n",
              "  <tbody>\n",
              "    <tr>\n",
              "      <th>0</th>\n",
              "      <td>1</td>\n",
              "      <td>Joko</td>\n",
              "      <td>22</td>\n",
              "      <td>Jakarta</td>\n",
              "      <td>security</td>\n",
              "      <td>100</td>\n",
              "    </tr>\n",
              "    <tr>\n",
              "      <th>1</th>\n",
              "      <td>3</td>\n",
              "      <td>Budi</td>\n",
              "      <td>24</td>\n",
              "      <td>Malang</td>\n",
              "      <td>Programmer</td>\n",
              "      <td>300</td>\n",
              "    </tr>\n",
              "    <tr>\n",
              "      <th>2</th>\n",
              "      <td>6</td>\n",
              "      <td>Tono</td>\n",
              "      <td>26</td>\n",
              "      <td>Jogja</td>\n",
              "      <td>Programmer</td>\n",
              "      <td>600</td>\n",
              "    </tr>\n",
              "    <tr>\n",
              "      <th>3</th>\n",
              "      <td>7</td>\n",
              "      <td>Rini</td>\n",
              "      <td>29</td>\n",
              "      <td>Malang</td>\n",
              "      <td>Marketing</td>\n",
              "      <td>700</td>\n",
              "    </tr>\n",
              "  </tbody>\n",
              "</table>\n",
              "</div>"
            ],
            "text/plain": [
              "   ID  Nama  Umur   Alamat   Pekerjaan  Gaji\n",
              "0   1  Joko    22  Jakarta    security   100\n",
              "1   3  Budi    24   Malang  Programmer   300\n",
              "2   6  Tono    26    Jogja  Programmer   600\n",
              "3   7  Rini    29   Malang   Marketing   700"
            ]
          },
          "metadata": {
            "tags": []
          },
          "execution_count": 56
        }
      ]
    },
    {
      "cell_type": "markdown",
      "metadata": {
        "id": "23c_8PGy1-xb"
      },
      "source": [
        "## Analyzing IoT sensor dataset"
      ]
    },
    {
      "cell_type": "code",
      "metadata": {
        "colab": {
          "base_uri": "https://localhost:8080/"
        },
        "id": "P2PUz-hn199O",
        "outputId": "d5d22fe6-65cf-4fab-b5a8-118ac7792265"
      },
      "source": [
        "from google.colab import drive\n",
        "drive.mount('/content/gdrive')"
      ],
      "execution_count": null,
      "outputs": [
        {
          "output_type": "stream",
          "text": [
            "Mounted at /content/gdrive\n"
          ],
          "name": "stdout"
        }
      ]
    },
    {
      "cell_type": "code",
      "metadata": {
        "colab": {
          "base_uri": "https://localhost:8080/",
          "height": 204
        },
        "id": "g0cDt-9Q3flN",
        "outputId": "e143d6a2-514c-4922-d363-ff1c5c9fe887"
      },
      "source": [
        "import pandas as pd\n",
        "df = pd.read_csv('/content/gdrive/MyDrive/Colab Notebooks/Datatraining.txt', delimiter=\",\")\n",
        "df.head()"
      ],
      "execution_count": null,
      "outputs": [
        {
          "output_type": "execute_result",
          "data": {
            "text/html": [
              "<div>\n",
              "<style scoped>\n",
              "    .dataframe tbody tr th:only-of-type {\n",
              "        vertical-align: middle;\n",
              "    }\n",
              "\n",
              "    .dataframe tbody tr th {\n",
              "        vertical-align: top;\n",
              "    }\n",
              "\n",
              "    .dataframe thead th {\n",
              "        text-align: right;\n",
              "    }\n",
              "</style>\n",
              "<table border=\"1\" class=\"dataframe\">\n",
              "  <thead>\n",
              "    <tr style=\"text-align: right;\">\n",
              "      <th></th>\n",
              "      <th>date</th>\n",
              "      <th>Temperature</th>\n",
              "      <th>Humidity</th>\n",
              "      <th>Light</th>\n",
              "      <th>CO2</th>\n",
              "      <th>HumidityRatio</th>\n",
              "      <th>Occupancy</th>\n",
              "    </tr>\n",
              "  </thead>\n",
              "  <tbody>\n",
              "    <tr>\n",
              "      <th>1</th>\n",
              "      <td>2015-02-04 17:51:00</td>\n",
              "      <td>23.18</td>\n",
              "      <td>27.2720</td>\n",
              "      <td>426.0</td>\n",
              "      <td>721.25</td>\n",
              "      <td>0.004793</td>\n",
              "      <td>1</td>\n",
              "    </tr>\n",
              "    <tr>\n",
              "      <th>2</th>\n",
              "      <td>2015-02-04 17:51:59</td>\n",
              "      <td>23.15</td>\n",
              "      <td>27.2675</td>\n",
              "      <td>429.5</td>\n",
              "      <td>714.00</td>\n",
              "      <td>0.004783</td>\n",
              "      <td>1</td>\n",
              "    </tr>\n",
              "    <tr>\n",
              "      <th>3</th>\n",
              "      <td>2015-02-04 17:53:00</td>\n",
              "      <td>23.15</td>\n",
              "      <td>27.2450</td>\n",
              "      <td>426.0</td>\n",
              "      <td>713.50</td>\n",
              "      <td>0.004779</td>\n",
              "      <td>1</td>\n",
              "    </tr>\n",
              "    <tr>\n",
              "      <th>4</th>\n",
              "      <td>2015-02-04 17:54:00</td>\n",
              "      <td>23.15</td>\n",
              "      <td>27.2000</td>\n",
              "      <td>426.0</td>\n",
              "      <td>708.25</td>\n",
              "      <td>0.004772</td>\n",
              "      <td>1</td>\n",
              "    </tr>\n",
              "    <tr>\n",
              "      <th>5</th>\n",
              "      <td>2015-02-04 17:55:00</td>\n",
              "      <td>23.10</td>\n",
              "      <td>27.2000</td>\n",
              "      <td>426.0</td>\n",
              "      <td>704.50</td>\n",
              "      <td>0.004757</td>\n",
              "      <td>1</td>\n",
              "    </tr>\n",
              "  </tbody>\n",
              "</table>\n",
              "</div>"
            ],
            "text/plain": [
              "                  date  Temperature  Humidity  ...     CO2  HumidityRatio  Occupancy\n",
              "1  2015-02-04 17:51:00        23.18   27.2720  ...  721.25       0.004793          1\n",
              "2  2015-02-04 17:51:59        23.15   27.2675  ...  714.00       0.004783          1\n",
              "3  2015-02-04 17:53:00        23.15   27.2450  ...  713.50       0.004779          1\n",
              "4  2015-02-04 17:54:00        23.15   27.2000  ...  708.25       0.004772          1\n",
              "5  2015-02-04 17:55:00        23.10   27.2000  ...  704.50       0.004757          1\n",
              "\n",
              "[5 rows x 7 columns]"
            ]
          },
          "metadata": {
            "tags": []
          },
          "execution_count": 75
        }
      ]
    },
    {
      "cell_type": "code",
      "metadata": {
        "colab": {
          "base_uri": "https://localhost:8080/",
          "height": 297
        },
        "id": "CAFwDS4z38iQ",
        "outputId": "a4d4c3ea-0858-4f82-cd22-d240f8602cbb"
      },
      "source": [
        "df.describe()"
      ],
      "execution_count": null,
      "outputs": [
        {
          "output_type": "execute_result",
          "data": {
            "text/html": [
              "<div>\n",
              "<style scoped>\n",
              "    .dataframe tbody tr th:only-of-type {\n",
              "        vertical-align: middle;\n",
              "    }\n",
              "\n",
              "    .dataframe tbody tr th {\n",
              "        vertical-align: top;\n",
              "    }\n",
              "\n",
              "    .dataframe thead th {\n",
              "        text-align: right;\n",
              "    }\n",
              "</style>\n",
              "<table border=\"1\" class=\"dataframe\">\n",
              "  <thead>\n",
              "    <tr style=\"text-align: right;\">\n",
              "      <th></th>\n",
              "      <th>Temperature</th>\n",
              "      <th>Humidity</th>\n",
              "      <th>Light</th>\n",
              "      <th>CO2</th>\n",
              "      <th>HumidityRatio</th>\n",
              "      <th>Occupancy</th>\n",
              "    </tr>\n",
              "  </thead>\n",
              "  <tbody>\n",
              "    <tr>\n",
              "      <th>count</th>\n",
              "      <td>8143.000000</td>\n",
              "      <td>8143.000000</td>\n",
              "      <td>8143.000000</td>\n",
              "      <td>8143.000000</td>\n",
              "      <td>8143.000000</td>\n",
              "      <td>8143.000000</td>\n",
              "    </tr>\n",
              "    <tr>\n",
              "      <th>mean</th>\n",
              "      <td>20.619084</td>\n",
              "      <td>25.731507</td>\n",
              "      <td>119.519375</td>\n",
              "      <td>606.546243</td>\n",
              "      <td>0.003863</td>\n",
              "      <td>0.212330</td>\n",
              "    </tr>\n",
              "    <tr>\n",
              "      <th>std</th>\n",
              "      <td>1.016916</td>\n",
              "      <td>5.531211</td>\n",
              "      <td>194.755805</td>\n",
              "      <td>314.320877</td>\n",
              "      <td>0.000852</td>\n",
              "      <td>0.408982</td>\n",
              "    </tr>\n",
              "    <tr>\n",
              "      <th>min</th>\n",
              "      <td>19.000000</td>\n",
              "      <td>16.745000</td>\n",
              "      <td>0.000000</td>\n",
              "      <td>412.750000</td>\n",
              "      <td>0.002674</td>\n",
              "      <td>0.000000</td>\n",
              "    </tr>\n",
              "    <tr>\n",
              "      <th>25%</th>\n",
              "      <td>19.700000</td>\n",
              "      <td>20.200000</td>\n",
              "      <td>0.000000</td>\n",
              "      <td>439.000000</td>\n",
              "      <td>0.003078</td>\n",
              "      <td>0.000000</td>\n",
              "    </tr>\n",
              "    <tr>\n",
              "      <th>50%</th>\n",
              "      <td>20.390000</td>\n",
              "      <td>26.222500</td>\n",
              "      <td>0.000000</td>\n",
              "      <td>453.500000</td>\n",
              "      <td>0.003801</td>\n",
              "      <td>0.000000</td>\n",
              "    </tr>\n",
              "    <tr>\n",
              "      <th>75%</th>\n",
              "      <td>21.390000</td>\n",
              "      <td>30.533333</td>\n",
              "      <td>256.375000</td>\n",
              "      <td>638.833333</td>\n",
              "      <td>0.004352</td>\n",
              "      <td>0.000000</td>\n",
              "    </tr>\n",
              "    <tr>\n",
              "      <th>max</th>\n",
              "      <td>23.180000</td>\n",
              "      <td>39.117500</td>\n",
              "      <td>1546.333333</td>\n",
              "      <td>2028.500000</td>\n",
              "      <td>0.006476</td>\n",
              "      <td>1.000000</td>\n",
              "    </tr>\n",
              "  </tbody>\n",
              "</table>\n",
              "</div>"
            ],
            "text/plain": [
              "       Temperature     Humidity  ...  HumidityRatio    Occupancy\n",
              "count  8143.000000  8143.000000  ...    8143.000000  8143.000000\n",
              "mean     20.619084    25.731507  ...       0.003863     0.212330\n",
              "std       1.016916     5.531211  ...       0.000852     0.408982\n",
              "min      19.000000    16.745000  ...       0.002674     0.000000\n",
              "25%      19.700000    20.200000  ...       0.003078     0.000000\n",
              "50%      20.390000    26.222500  ...       0.003801     0.000000\n",
              "75%      21.390000    30.533333  ...       0.004352     0.000000\n",
              "max      23.180000    39.117500  ...       0.006476     1.000000\n",
              "\n",
              "[8 rows x 6 columns]"
            ]
          },
          "metadata": {
            "tags": []
          },
          "execution_count": 59
        }
      ]
    },
    {
      "cell_type": "code",
      "metadata": {
        "colab": {
          "base_uri": "https://localhost:8080/",
          "height": 142
        },
        "id": "C7tgLTUX4G3U",
        "outputId": "998d1e6c-3671-4ad7-f4ca-536295301906"
      },
      "source": [
        "#Analyzing Data\n",
        "df.groupby('Occupancy').count()"
      ],
      "execution_count": null,
      "outputs": [
        {
          "output_type": "execute_result",
          "data": {
            "text/html": [
              "<div>\n",
              "<style scoped>\n",
              "    .dataframe tbody tr th:only-of-type {\n",
              "        vertical-align: middle;\n",
              "    }\n",
              "\n",
              "    .dataframe tbody tr th {\n",
              "        vertical-align: top;\n",
              "    }\n",
              "\n",
              "    .dataframe thead th {\n",
              "        text-align: right;\n",
              "    }\n",
              "</style>\n",
              "<table border=\"1\" class=\"dataframe\">\n",
              "  <thead>\n",
              "    <tr style=\"text-align: right;\">\n",
              "      <th></th>\n",
              "      <th>date</th>\n",
              "      <th>Temperature</th>\n",
              "      <th>Humidity</th>\n",
              "      <th>Light</th>\n",
              "      <th>CO2</th>\n",
              "      <th>HumidityRatio</th>\n",
              "    </tr>\n",
              "    <tr>\n",
              "      <th>Occupancy</th>\n",
              "      <th></th>\n",
              "      <th></th>\n",
              "      <th></th>\n",
              "      <th></th>\n",
              "      <th></th>\n",
              "      <th></th>\n",
              "    </tr>\n",
              "  </thead>\n",
              "  <tbody>\n",
              "    <tr>\n",
              "      <th>0</th>\n",
              "      <td>6414</td>\n",
              "      <td>6414</td>\n",
              "      <td>6414</td>\n",
              "      <td>6414</td>\n",
              "      <td>6414</td>\n",
              "      <td>6414</td>\n",
              "    </tr>\n",
              "    <tr>\n",
              "      <th>1</th>\n",
              "      <td>1729</td>\n",
              "      <td>1729</td>\n",
              "      <td>1729</td>\n",
              "      <td>1729</td>\n",
              "      <td>1729</td>\n",
              "      <td>1729</td>\n",
              "    </tr>\n",
              "  </tbody>\n",
              "</table>\n",
              "</div>"
            ],
            "text/plain": [
              "           date  Temperature  Humidity  Light   CO2  HumidityRatio\n",
              "Occupancy                                                         \n",
              "0          6414         6414      6414   6414  6414           6414\n",
              "1          1729         1729      1729   1729  1729           1729"
            ]
          },
          "metadata": {
            "tags": []
          },
          "execution_count": 61
        }
      ]
    },
    {
      "cell_type": "code",
      "metadata": {
        "colab": {
          "base_uri": "https://localhost:8080/"
        },
        "id": "LMl1u87l4VVa",
        "outputId": "add64c6d-9d5d-4292-9e1d-45ac14875c76"
      },
      "source": [
        "#Analyzing Data\n",
        "df['date'] = pd.to_datetime(df['date'])\n",
        "df.dtypes"
      ],
      "execution_count": null,
      "outputs": [
        {
          "output_type": "execute_result",
          "data": {
            "text/plain": [
              "date             datetime64[ns]\n",
              "Temperature             float64\n",
              "Humidity                float64\n",
              "Light                   float64\n",
              "CO2                     float64\n",
              "HumidityRatio           float64\n",
              "Occupancy                 int64\n",
              "dtype: object"
            ]
          },
          "metadata": {
            "tags": []
          },
          "execution_count": 77
        }
      ]
    },
    {
      "cell_type": "code",
      "metadata": {
        "colab": {
          "base_uri": "https://localhost:8080/",
          "height": 297
        },
        "id": "Xh1P9Gdy5HNE",
        "outputId": "3876022a-6b0c-4a61-f436-b9a68d924fd3"
      },
      "source": [
        "df.resample('D', on='date').mean()"
      ],
      "execution_count": null,
      "outputs": [
        {
          "output_type": "execute_result",
          "data": {
            "text/html": [
              "<div>\n",
              "<style scoped>\n",
              "    .dataframe tbody tr th:only-of-type {\n",
              "        vertical-align: middle;\n",
              "    }\n",
              "\n",
              "    .dataframe tbody tr th {\n",
              "        vertical-align: top;\n",
              "    }\n",
              "\n",
              "    .dataframe thead th {\n",
              "        text-align: right;\n",
              "    }\n",
              "</style>\n",
              "<table border=\"1\" class=\"dataframe\">\n",
              "  <thead>\n",
              "    <tr style=\"text-align: right;\">\n",
              "      <th></th>\n",
              "      <th>Temperature</th>\n",
              "      <th>Humidity</th>\n",
              "      <th>Light</th>\n",
              "      <th>CO2</th>\n",
              "      <th>HumidityRatio</th>\n",
              "      <th>Occupancy</th>\n",
              "    </tr>\n",
              "    <tr>\n",
              "      <th>date</th>\n",
              "      <th></th>\n",
              "      <th></th>\n",
              "      <th></th>\n",
              "      <th></th>\n",
              "      <th></th>\n",
              "      <th></th>\n",
              "    </tr>\n",
              "  </thead>\n",
              "  <tbody>\n",
              "    <tr>\n",
              "      <th>2015-02-04</th>\n",
              "      <td>21.765255</td>\n",
              "      <td>26.413291</td>\n",
              "      <td>18.271003</td>\n",
              "      <td>535.448284</td>\n",
              "      <td>0.004262</td>\n",
              "      <td>0.043360</td>\n",
              "    </tr>\n",
              "    <tr>\n",
              "      <th>2015-02-05</th>\n",
              "      <td>21.469044</td>\n",
              "      <td>24.189298</td>\n",
              "      <td>196.227928</td>\n",
              "      <td>685.939508</td>\n",
              "      <td>0.003841</td>\n",
              "      <td>0.374306</td>\n",
              "    </tr>\n",
              "    <tr>\n",
              "      <th>2015-02-06</th>\n",
              "      <td>20.880500</td>\n",
              "      <td>19.838108</td>\n",
              "      <td>199.104201</td>\n",
              "      <td>597.644051</td>\n",
              "      <td>0.003029</td>\n",
              "      <td>0.406944</td>\n",
              "    </tr>\n",
              "    <tr>\n",
              "      <th>2015-02-07</th>\n",
              "      <td>20.576546</td>\n",
              "      <td>20.639422</td>\n",
              "      <td>66.854352</td>\n",
              "      <td>443.590000</td>\n",
              "      <td>0.003074</td>\n",
              "      <td>0.000000</td>\n",
              "    </tr>\n",
              "    <tr>\n",
              "      <th>2015-02-08</th>\n",
              "      <td>19.510642</td>\n",
              "      <td>29.200364</td>\n",
              "      <td>25.012199</td>\n",
              "      <td>433.987454</td>\n",
              "      <td>0.004091</td>\n",
              "      <td>0.000000</td>\n",
              "    </tr>\n",
              "    <tr>\n",
              "      <th>2015-02-09</th>\n",
              "      <td>20.498565</td>\n",
              "      <td>31.659897</td>\n",
              "      <td>167.386111</td>\n",
              "      <td>943.754277</td>\n",
              "      <td>0.004769</td>\n",
              "      <td>0.370833</td>\n",
              "    </tr>\n",
              "    <tr>\n",
              "      <th>2015-02-10</th>\n",
              "      <td>20.283957</td>\n",
              "      <td>33.146608</td>\n",
              "      <td>41.641405</td>\n",
              "      <td>471.163110</td>\n",
              "      <td>0.004882</td>\n",
              "      <td>0.094077</td>\n",
              "    </tr>\n",
              "  </tbody>\n",
              "</table>\n",
              "</div>"
            ],
            "text/plain": [
              "            Temperature   Humidity  ...  HumidityRatio  Occupancy\n",
              "date                                ...                          \n",
              "2015-02-04    21.765255  26.413291  ...       0.004262   0.043360\n",
              "2015-02-05    21.469044  24.189298  ...       0.003841   0.374306\n",
              "2015-02-06    20.880500  19.838108  ...       0.003029   0.406944\n",
              "2015-02-07    20.576546  20.639422  ...       0.003074   0.000000\n",
              "2015-02-08    19.510642  29.200364  ...       0.004091   0.000000\n",
              "2015-02-09    20.498565  31.659897  ...       0.004769   0.370833\n",
              "2015-02-10    20.283957  33.146608  ...       0.004882   0.094077\n",
              "\n",
              "[7 rows x 6 columns]"
            ]
          },
          "metadata": {
            "tags": []
          },
          "execution_count": 67
        }
      ]
    },
    {
      "cell_type": "code",
      "metadata": {
        "colab": {
          "base_uri": "https://localhost:8080/",
          "height": 297
        },
        "id": "IzprG24X5eDe",
        "outputId": "a61e9165-9619-4f77-8f85-d9c7e29d767e"
      },
      "source": [
        "df.set_index('date').groupby(pd.Grouper(freq='D')).mean()"
      ],
      "execution_count": null,
      "outputs": [
        {
          "output_type": "execute_result",
          "data": {
            "text/html": [
              "<div>\n",
              "<style scoped>\n",
              "    .dataframe tbody tr th:only-of-type {\n",
              "        vertical-align: middle;\n",
              "    }\n",
              "\n",
              "    .dataframe tbody tr th {\n",
              "        vertical-align: top;\n",
              "    }\n",
              "\n",
              "    .dataframe thead th {\n",
              "        text-align: right;\n",
              "    }\n",
              "</style>\n",
              "<table border=\"1\" class=\"dataframe\">\n",
              "  <thead>\n",
              "    <tr style=\"text-align: right;\">\n",
              "      <th></th>\n",
              "      <th>Temperature</th>\n",
              "      <th>Humidity</th>\n",
              "      <th>Light</th>\n",
              "      <th>CO2</th>\n",
              "      <th>HumidityRatio</th>\n",
              "      <th>Occupancy</th>\n",
              "    </tr>\n",
              "    <tr>\n",
              "      <th>date</th>\n",
              "      <th></th>\n",
              "      <th></th>\n",
              "      <th></th>\n",
              "      <th></th>\n",
              "      <th></th>\n",
              "      <th></th>\n",
              "    </tr>\n",
              "  </thead>\n",
              "  <tbody>\n",
              "    <tr>\n",
              "      <th>2015-02-04</th>\n",
              "      <td>21.765255</td>\n",
              "      <td>26.413291</td>\n",
              "      <td>18.271003</td>\n",
              "      <td>535.448284</td>\n",
              "      <td>0.004262</td>\n",
              "      <td>0.043360</td>\n",
              "    </tr>\n",
              "    <tr>\n",
              "      <th>2015-02-05</th>\n",
              "      <td>21.469044</td>\n",
              "      <td>24.189298</td>\n",
              "      <td>196.227928</td>\n",
              "      <td>685.939508</td>\n",
              "      <td>0.003841</td>\n",
              "      <td>0.374306</td>\n",
              "    </tr>\n",
              "    <tr>\n",
              "      <th>2015-02-06</th>\n",
              "      <td>20.880500</td>\n",
              "      <td>19.838108</td>\n",
              "      <td>199.104201</td>\n",
              "      <td>597.644051</td>\n",
              "      <td>0.003029</td>\n",
              "      <td>0.406944</td>\n",
              "    </tr>\n",
              "    <tr>\n",
              "      <th>2015-02-07</th>\n",
              "      <td>20.576546</td>\n",
              "      <td>20.639422</td>\n",
              "      <td>66.854352</td>\n",
              "      <td>443.590000</td>\n",
              "      <td>0.003074</td>\n",
              "      <td>0.000000</td>\n",
              "    </tr>\n",
              "    <tr>\n",
              "      <th>2015-02-08</th>\n",
              "      <td>19.510642</td>\n",
              "      <td>29.200364</td>\n",
              "      <td>25.012199</td>\n",
              "      <td>433.987454</td>\n",
              "      <td>0.004091</td>\n",
              "      <td>0.000000</td>\n",
              "    </tr>\n",
              "    <tr>\n",
              "      <th>2015-02-09</th>\n",
              "      <td>20.498565</td>\n",
              "      <td>31.659897</td>\n",
              "      <td>167.386111</td>\n",
              "      <td>943.754277</td>\n",
              "      <td>0.004769</td>\n",
              "      <td>0.370833</td>\n",
              "    </tr>\n",
              "    <tr>\n",
              "      <th>2015-02-10</th>\n",
              "      <td>20.283957</td>\n",
              "      <td>33.146608</td>\n",
              "      <td>41.641405</td>\n",
              "      <td>471.163110</td>\n",
              "      <td>0.004882</td>\n",
              "      <td>0.094077</td>\n",
              "    </tr>\n",
              "  </tbody>\n",
              "</table>\n",
              "</div>"
            ],
            "text/plain": [
              "            Temperature   Humidity  ...  HumidityRatio  Occupancy\n",
              "date                                ...                          \n",
              "2015-02-04    21.765255  26.413291  ...       0.004262   0.043360\n",
              "2015-02-05    21.469044  24.189298  ...       0.003841   0.374306\n",
              "2015-02-06    20.880500  19.838108  ...       0.003029   0.406944\n",
              "2015-02-07    20.576546  20.639422  ...       0.003074   0.000000\n",
              "2015-02-08    19.510642  29.200364  ...       0.004091   0.000000\n",
              "2015-02-09    20.498565  31.659897  ...       0.004769   0.370833\n",
              "2015-02-10    20.283957  33.146608  ...       0.004882   0.094077\n",
              "\n",
              "[7 rows x 6 columns]"
            ]
          },
          "metadata": {
            "tags": []
          },
          "execution_count": 69
        }
      ]
    },
    {
      "cell_type": "code",
      "metadata": {
        "colab": {
          "base_uri": "https://localhost:8080/",
          "height": 441
        },
        "id": "3H8y7kQG53c3",
        "outputId": "6d20ffb8-5a5d-41fe-e3a4-2da0be930b0d"
      },
      "source": [
        "#Visualization\n",
        "import pandas as pd\n",
        "import matplotlib.pyplot as plt\n",
        "\n",
        "figure, axis = plt.subplots(5, figsize=(10,6))\n",
        "\n",
        "axis[0].plot(df[\"Temperature\"])\n",
        "axis[0].set_title(\"Temperature\")\n",
        "\n",
        "axis[1].plot(df[\"Humidity\"])\n",
        "axis[1].set_title(\"Humidity\")\n",
        "\n",
        "axis[2].plot(df[\"Light\"])\n",
        "axis[2].set_title(\"Light\")\n",
        "\n",
        "axis[3].plot(df[\"CO2\"])\n",
        "axis[3].set_title(\"CO2\")\n",
        "\n",
        "axis[4].plot(df[\"Occupancy\"])\n",
        "axis[4].set_title(\"Occupancy\")\n",
        "\n",
        "figure.tight_layout()"
      ],
      "execution_count": null,
      "outputs": [
        {
          "output_type": "display_data",
          "data": {
            "image/png": "[encoded data removed]",
            "text/plain": [
              "<Figure size 720x432 with 5 Axes>"
            ]
          },
          "metadata": {
            "tags": [],
            "needs_background": "light"
          }
        }
      ]
    },
    {
      "cell_type": "markdown",
      "metadata": {
        "id": "fNyP9NaX8fqu"
      },
      "source": [
        "##Penjelasan :\n",
        "Dari data diatas kita bisa analisa bahwa faktor yang mempunyai keterkaitan tinggi dengan occupancy adalah kadar CO2 dan Light pada suatu ruangan"
      ]
    },
    {
      "cell_type": "markdown",
      "metadata": {
        "id": "9jm-OJXQ889L"
      },
      "source": [
        "#SOAL 2"
      ]
    },
    {
      "cell_type": "code",
      "metadata": {
        "colab": {
          "base_uri": "https://localhost:8080/",
          "height": 173
        },
        "id": "nArEt1xj8-h2",
        "outputId": "8b7deb87-9374-479c-b1b7-c8e6f44c4489"
      },
      "source": [
        "matakuliah= {'MKID' : ['mk1', 'mk2', 'mk3', 'mk4'], \n",
        "        'Nama Mata Kuliah': ['Database','Programming', 'Web-Based Programming', 'Basic Calculus' ]}\n",
        "matakuliah = pd.DataFrame(matakuliah)\n",
        "display(matakuliah)"
      ],
      "execution_count": null,
      "outputs": [
        {
          "output_type": "display_data",
          "data": {
            "text/html": [
              "<div>\n",
              "<style scoped>\n",
              "    .dataframe tbody tr th:only-of-type {\n",
              "        vertical-align: middle;\n",
              "    }\n",
              "\n",
              "    .dataframe tbody tr th {\n",
              "        vertical-align: top;\n",
              "    }\n",
              "\n",
              "    .dataframe thead th {\n",
              "        text-align: right;\n",
              "    }\n",
              "</style>\n",
              "<table border=\"1\" class=\"dataframe\">\n",
              "  <thead>\n",
              "    <tr style=\"text-align: right;\">\n",
              "      <th></th>\n",
              "      <th>MKID</th>\n",
              "      <th>Nama Mata Kuliah</th>\n",
              "    </tr>\n",
              "  </thead>\n",
              "  <tbody>\n",
              "    <tr>\n",
              "      <th>0</th>\n",
              "      <td>mk1</td>\n",
              "      <td>Database</td>\n",
              "    </tr>\n",
              "    <tr>\n",
              "      <th>1</th>\n",
              "      <td>mk2</td>\n",
              "      <td>Programming</td>\n",
              "    </tr>\n",
              "    <tr>\n",
              "      <th>2</th>\n",
              "      <td>mk3</td>\n",
              "      <td>Web-Based Programming</td>\n",
              "    </tr>\n",
              "    <tr>\n",
              "      <th>3</th>\n",
              "      <td>mk4</td>\n",
              "      <td>Basic Calculus</td>\n",
              "    </tr>\n",
              "  </tbody>\n",
              "</table>\n",
              "</div>"
            ],
            "text/plain": [
              "  MKID       Nama Mata Kuliah\n",
              "0  mk1               Database\n",
              "1  mk2            Programming\n",
              "2  mk3  Web-Based Programming\n",
              "3  mk4         Basic Calculus"
            ]
          },
          "metadata": {
            "tags": []
          }
        }
      ]
    },
    {
      "cell_type": "code",
      "metadata": {
        "colab": {
          "base_uri": "https://localhost:8080/",
          "height": 173
        },
        "id": "ZjPfSPVn_A7I",
        "outputId": "e2a1b591-0f66-4f87-ecd5-6d8e5ec9125a"
      },
      "source": [
        "mahasiswa= {'NIM' : [101, 102, 103, 105], \n",
        "              'Nama': ['Jane','Mike', 'Dave', 'Bambang' ]}\n",
        "mahasiswa = pd.DataFrame(mahasiswa)\n",
        "display(mahasiswa)"
      ],
      "execution_count": null,
      "outputs": [
        {
          "output_type": "display_data",
          "data": {
            "text/html": [
              "<div>\n",
              "<style scoped>\n",
              "    .dataframe tbody tr th:only-of-type {\n",
              "        vertical-align: middle;\n",
              "    }\n",
              "\n",
              "    .dataframe tbody tr th {\n",
              "        vertical-align: top;\n",
              "    }\n",
              "\n",
              "    .dataframe thead th {\n",
              "        text-align: right;\n",
              "    }\n",
              "</style>\n",
              "<table border=\"1\" class=\"dataframe\">\n",
              "  <thead>\n",
              "    <tr style=\"text-align: right;\">\n",
              "      <th></th>\n",
              "      <th>NIM</th>\n",
              "      <th>Nama</th>\n",
              "    </tr>\n",
              "  </thead>\n",
              "  <tbody>\n",
              "    <tr>\n",
              "      <th>0</th>\n",
              "      <td>101</td>\n",
              "      <td>Jane</td>\n",
              "    </tr>\n",
              "    <tr>\n",
              "      <th>1</th>\n",
              "      <td>102</td>\n",
              "      <td>Mike</td>\n",
              "    </tr>\n",
              "    <tr>\n",
              "      <th>2</th>\n",
              "      <td>103</td>\n",
              "      <td>Dave</td>\n",
              "    </tr>\n",
              "    <tr>\n",
              "      <th>3</th>\n",
              "      <td>105</td>\n",
              "      <td>Bambang</td>\n",
              "    </tr>\n",
              "  </tbody>\n",
              "</table>\n",
              "</div>"
            ],
            "text/plain": [
              "   NIM     Nama\n",
              "0  101     Jane\n",
              "1  102     Mike\n",
              "2  103     Dave\n",
              "3  105  Bambang"
            ]
          },
          "metadata": {
            "tags": []
          }
        }
      ]
    },
    {
      "cell_type": "code",
      "metadata": {
        "colab": {
          "base_uri": "https://localhost:8080/",
          "height": 173
        },
        "id": "yUr5l3MZ_f9E",
        "outputId": "4abf5b88-bc2f-4dfe-f2d8-823cb8cf8b6e"
      },
      "source": [
        "nilai= {'NIM' : [101, 101, 102, 103], \n",
        "         'MKID': ['mk1','mk3', 'mk2', 'mk2'],\n",
        "         'Nilai': [60, 80,70, 95]}\n",
        "nilai = pd.DataFrame(nilai)\n",
        "display(nilai)"
      ],
      "execution_count": null,
      "outputs": [
        {
          "output_type": "display_data",
          "data": {
            "text/html": [
              "<div>\n",
              "<style scoped>\n",
              "    .dataframe tbody tr th:only-of-type {\n",
              "        vertical-align: middle;\n",
              "    }\n",
              "\n",
              "    .dataframe tbody tr th {\n",
              "        vertical-align: top;\n",
              "    }\n",
              "\n",
              "    .dataframe thead th {\n",
              "        text-align: right;\n",
              "    }\n",
              "</style>\n",
              "<table border=\"1\" class=\"dataframe\">\n",
              "  <thead>\n",
              "    <tr style=\"text-align: right;\">\n",
              "      <th></th>\n",
              "      <th>NIM</th>\n",
              "      <th>MKID</th>\n",
              "      <th>Nilai</th>\n",
              "    </tr>\n",
              "  </thead>\n",
              "  <tbody>\n",
              "    <tr>\n",
              "      <th>0</th>\n",
              "      <td>101</td>\n",
              "      <td>mk1</td>\n",
              "      <td>60</td>\n",
              "    </tr>\n",
              "    <tr>\n",
              "      <th>1</th>\n",
              "      <td>101</td>\n",
              "      <td>mk3</td>\n",
              "      <td>80</td>\n",
              "    </tr>\n",
              "    <tr>\n",
              "      <th>2</th>\n",
              "      <td>102</td>\n",
              "      <td>mk2</td>\n",
              "      <td>70</td>\n",
              "    </tr>\n",
              "    <tr>\n",
              "      <th>3</th>\n",
              "      <td>103</td>\n",
              "      <td>mk2</td>\n",
              "      <td>95</td>\n",
              "    </tr>\n",
              "  </tbody>\n",
              "</table>\n",
              "</div>"
            ],
            "text/plain": [
              "   NIM MKID  Nilai\n",
              "0  101  mk1     60\n",
              "1  101  mk3     80\n",
              "2  102  mk2     70\n",
              "3  103  mk2     95"
            ]
          },
          "metadata": {
            "tags": []
          }
        }
      ]
    },
    {
      "cell_type": "markdown",
      "metadata": {
        "id": "fBLSWt31AKKP"
      },
      "source": [
        "## Soal 3"
      ]
    },
    {
      "cell_type": "code",
      "metadata": {
        "colab": {
          "base_uri": "https://localhost:8080/",
          "height": 173
        },
        "id": "FybqSu3GOLtm",
        "outputId": "1a46e8d5-f113-44e9-a996-dbc55109cbc6"
      },
      "source": [
        "df = pd.concat([matakuliah,mahasiswa], axis = 1)\n",
        "df"
      ],
      "execution_count": null,
      "outputs": [
        {
          "output_type": "execute_result",
          "data": {
            "text/html": [
              "<div>\n",
              "<style scoped>\n",
              "    .dataframe tbody tr th:only-of-type {\n",
              "        vertical-align: middle;\n",
              "    }\n",
              "\n",
              "    .dataframe tbody tr th {\n",
              "        vertical-align: top;\n",
              "    }\n",
              "\n",
              "    .dataframe thead th {\n",
              "        text-align: right;\n",
              "    }\n",
              "</style>\n",
              "<table border=\"1\" class=\"dataframe\">\n",
              "  <thead>\n",
              "    <tr style=\"text-align: right;\">\n",
              "      <th></th>\n",
              "      <th>MKID</th>\n",
              "      <th>Nama Mata Kuliah</th>\n",
              "      <th>NIM</th>\n",
              "      <th>Nama</th>\n",
              "    </tr>\n",
              "  </thead>\n",
              "  <tbody>\n",
              "    <tr>\n",
              "      <th>0</th>\n",
              "      <td>mk1</td>\n",
              "      <td>Database</td>\n",
              "      <td>101</td>\n",
              "      <td>Jane</td>\n",
              "    </tr>\n",
              "    <tr>\n",
              "      <th>1</th>\n",
              "      <td>mk2</td>\n",
              "      <td>Programming</td>\n",
              "      <td>102</td>\n",
              "      <td>Mike</td>\n",
              "    </tr>\n",
              "    <tr>\n",
              "      <th>2</th>\n",
              "      <td>mk3</td>\n",
              "      <td>Web-Based Programming</td>\n",
              "      <td>103</td>\n",
              "      <td>Dave</td>\n",
              "    </tr>\n",
              "    <tr>\n",
              "      <th>3</th>\n",
              "      <td>mk4</td>\n",
              "      <td>Basic Calculus</td>\n",
              "      <td>105</td>\n",
              "      <td>Bambang</td>\n",
              "    </tr>\n",
              "  </tbody>\n",
              "</table>\n",
              "</div>"
            ],
            "text/plain": [
              "  MKID       Nama Mata Kuliah  NIM     Nama\n",
              "0  mk1               Database  101     Jane\n",
              "1  mk2            Programming  102     Mike\n",
              "2  mk3  Web-Based Programming  103     Dave\n",
              "3  mk4         Basic Calculus  105  Bambang"
            ]
          },
          "metadata": {
            "tags": []
          },
          "execution_count": 115
        }
      ]
    },
    {
      "cell_type": "code",
      "metadata": {
        "colab": {
          "base_uri": "https://localhost:8080/",
          "height": 235
        },
        "id": "cMmhzgySOhNv",
        "outputId": "e8ee116f-0937-4df0-f469-113c6bad5c67"
      },
      "source": [
        "gabung_nilai = pd.merge(df, nilai, how= 'outer')\n",
        "gabung_nilai"
      ],
      "execution_count": null,
      "outputs": [
        {
          "output_type": "execute_result",
          "data": {
            "text/html": [
              "<div>\n",
              "<style scoped>\n",
              "    .dataframe tbody tr th:only-of-type {\n",
              "        vertical-align: middle;\n",
              "    }\n",
              "\n",
              "    .dataframe tbody tr th {\n",
              "        vertical-align: top;\n",
              "    }\n",
              "\n",
              "    .dataframe thead th {\n",
              "        text-align: right;\n",
              "    }\n",
              "</style>\n",
              "<table border=\"1\" class=\"dataframe\">\n",
              "  <thead>\n",
              "    <tr style=\"text-align: right;\">\n",
              "      <th></th>\n",
              "      <th>MKID</th>\n",
              "      <th>Nama Mata Kuliah</th>\n",
              "      <th>NIM</th>\n",
              "      <th>Nama</th>\n",
              "      <th>Nilai</th>\n",
              "    </tr>\n",
              "  </thead>\n",
              "  <tbody>\n",
              "    <tr>\n",
              "      <th>0</th>\n",
              "      <td>mk1</td>\n",
              "      <td>Database</td>\n",
              "      <td>101</td>\n",
              "      <td>Jane</td>\n",
              "      <td>60.0</td>\n",
              "    </tr>\n",
              "    <tr>\n",
              "      <th>1</th>\n",
              "      <td>mk2</td>\n",
              "      <td>Programming</td>\n",
              "      <td>102</td>\n",
              "      <td>Mike</td>\n",
              "      <td>70.0</td>\n",
              "    </tr>\n",
              "    <tr>\n",
              "      <th>2</th>\n",
              "      <td>mk3</td>\n",
              "      <td>Web-Based Programming</td>\n",
              "      <td>103</td>\n",
              "      <td>Dave</td>\n",
              "      <td>NaN</td>\n",
              "    </tr>\n",
              "    <tr>\n",
              "      <th>3</th>\n",
              "      <td>mk4</td>\n",
              "      <td>Basic Calculus</td>\n",
              "      <td>105</td>\n",
              "      <td>Bambang</td>\n",
              "      <td>NaN</td>\n",
              "    </tr>\n",
              "    <tr>\n",
              "      <th>4</th>\n",
              "      <td>mk3</td>\n",
              "      <td>NaN</td>\n",
              "      <td>101</td>\n",
              "      <td>NaN</td>\n",
              "      <td>80.0</td>\n",
              "    </tr>\n",
              "    <tr>\n",
              "      <th>5</th>\n",
              "      <td>mk2</td>\n",
              "      <td>NaN</td>\n",
              "      <td>103</td>\n",
              "      <td>NaN</td>\n",
              "      <td>95.0</td>\n",
              "    </tr>\n",
              "  </tbody>\n",
              "</table>\n",
              "</div>"
            ],
            "text/plain": [
              "  MKID       Nama Mata Kuliah  NIM     Nama  Nilai\n",
              "0  mk1               Database  101     Jane   60.0\n",
              "1  mk2            Programming  102     Mike   70.0\n",
              "2  mk3  Web-Based Programming  103     Dave    NaN\n",
              "3  mk4         Basic Calculus  105  Bambang    NaN\n",
              "4  mk3                    NaN  101      NaN   80.0\n",
              "5  mk2                    NaN  103      NaN   95.0"
            ]
          },
          "metadata": {
            "tags": []
          },
          "execution_count": 118
        }
      ]
    },
    {
      "cell_type": "code",
      "metadata": {
        "colab": {
          "base_uri": "https://localhost:8080/",
          "height": 173
        },
        "id": "LRfIKQZsAIuJ",
        "outputId": "e6197afb-809b-4fd1-9541-62a307a62e1e"
      },
      "source": [
        "import pandas as pd        \n",
        "gabung = pd.merge(nilai, matakuliah, how= 'inner')\n",
        "pd.DataFrame(gabung)\n",
        "gabung\n"
      ],
      "execution_count": null,
      "outputs": [
        {
          "output_type": "execute_result",
          "data": {
            "text/html": [
              "<div>\n",
              "<style scoped>\n",
              "    .dataframe tbody tr th:only-of-type {\n",
              "        vertical-align: middle;\n",
              "    }\n",
              "\n",
              "    .dataframe tbody tr th {\n",
              "        vertical-align: top;\n",
              "    }\n",
              "\n",
              "    .dataframe thead th {\n",
              "        text-align: right;\n",
              "    }\n",
              "</style>\n",
              "<table border=\"1\" class=\"dataframe\">\n",
              "  <thead>\n",
              "    <tr style=\"text-align: right;\">\n",
              "      <th></th>\n",
              "      <th>NIM</th>\n",
              "      <th>MKID</th>\n",
              "      <th>Nilai</th>\n",
              "      <th>Nama Mata Kuliah</th>\n",
              "    </tr>\n",
              "  </thead>\n",
              "  <tbody>\n",
              "    <tr>\n",
              "      <th>0</th>\n",
              "      <td>101</td>\n",
              "      <td>mk1</td>\n",
              "      <td>60</td>\n",
              "      <td>Database</td>\n",
              "    </tr>\n",
              "    <tr>\n",
              "      <th>1</th>\n",
              "      <td>101</td>\n",
              "      <td>mk3</td>\n",
              "      <td>80</td>\n",
              "      <td>Web-Based Programming</td>\n",
              "    </tr>\n",
              "    <tr>\n",
              "      <th>2</th>\n",
              "      <td>102</td>\n",
              "      <td>mk2</td>\n",
              "      <td>70</td>\n",
              "      <td>Programming</td>\n",
              "    </tr>\n",
              "    <tr>\n",
              "      <th>3</th>\n",
              "      <td>103</td>\n",
              "      <td>mk2</td>\n",
              "      <td>95</td>\n",
              "      <td>Programming</td>\n",
              "    </tr>\n",
              "  </tbody>\n",
              "</table>\n",
              "</div>"
            ],
            "text/plain": [
              "   NIM MKID  Nilai       Nama Mata Kuliah\n",
              "0  101  mk1     60               Database\n",
              "1  101  mk3     80  Web-Based Programming\n",
              "2  102  mk2     70            Programming\n",
              "3  103  mk2     95            Programming"
            ]
          },
          "metadata": {
            "tags": []
          },
          "execution_count": 113
        }
      ]
    },
    {
      "cell_type": "code",
      "metadata": {
        "colab": {
          "base_uri": "https://localhost:8080/",
          "height": 204
        },
        "id": "xl3eDzuDEOtn",
        "outputId": "dac5eb67-294d-4a09-cc5b-24ca7fe42fa3"
      },
      "source": [
        "gabung_nilai = pd.merge(mahasiswa, gabung, how= 'outer')\n",
        "gabung_nilai"
      ],
      "execution_count": null,
      "outputs": [
        {
          "output_type": "execute_result",
          "data": {
            "text/html": [
              "<div>\n",
              "<style scoped>\n",
              "    .dataframe tbody tr th:only-of-type {\n",
              "        vertical-align: middle;\n",
              "    }\n",
              "\n",
              "    .dataframe tbody tr th {\n",
              "        vertical-align: top;\n",
              "    }\n",
              "\n",
              "    .dataframe thead th {\n",
              "        text-align: right;\n",
              "    }\n",
              "</style>\n",
              "<table border=\"1\" class=\"dataframe\">\n",
              "  <thead>\n",
              "    <tr style=\"text-align: right;\">\n",
              "      <th></th>\n",
              "      <th>NIM</th>\n",
              "      <th>Nama</th>\n",
              "      <th>MKID</th>\n",
              "      <th>Nilai</th>\n",
              "      <th>Nama Mata Kuliah</th>\n",
              "    </tr>\n",
              "  </thead>\n",
              "  <tbody>\n",
              "    <tr>\n",
              "      <th>0</th>\n",
              "      <td>101</td>\n",
              "      <td>Jane</td>\n",
              "      <td>mk1</td>\n",
              "      <td>60.0</td>\n",
              "      <td>Database</td>\n",
              "    </tr>\n",
              "    <tr>\n",
              "      <th>1</th>\n",
              "      <td>101</td>\n",
              "      <td>Jane</td>\n",
              "      <td>mk3</td>\n",
              "      <td>80.0</td>\n",
              "      <td>Web-Based Programming</td>\n",
              "    </tr>\n",
              "    <tr>\n",
              "      <th>2</th>\n",
              "      <td>102</td>\n",
              "      <td>Mike</td>\n",
              "      <td>mk2</td>\n",
              "      <td>70.0</td>\n",
              "      <td>Programming</td>\n",
              "    </tr>\n",
              "    <tr>\n",
              "      <th>3</th>\n",
              "      <td>103</td>\n",
              "      <td>Dave</td>\n",
              "      <td>mk2</td>\n",
              "      <td>95.0</td>\n",
              "      <td>Programming</td>\n",
              "    </tr>\n",
              "    <tr>\n",
              "      <th>4</th>\n",
              "      <td>105</td>\n",
              "      <td>Bambang</td>\n",
              "      <td>NaN</td>\n",
              "      <td>NaN</td>\n",
              "      <td>NaN</td>\n",
              "    </tr>\n",
              "  </tbody>\n",
              "</table>\n",
              "</div>"
            ],
            "text/plain": [
              "   NIM     Nama MKID  Nilai       Nama Mata Kuliah\n",
              "0  101     Jane  mk1   60.0               Database\n",
              "1  101     Jane  mk3   80.0  Web-Based Programming\n",
              "2  102     Mike  mk2   70.0            Programming\n",
              "3  103     Dave  mk2   95.0            Programming\n",
              "4  105  Bambang  NaN    NaN                    NaN"
            ]
          },
          "metadata": {
            "tags": []
          },
          "execution_count": 114
        }
      ]
    }
  ]
}